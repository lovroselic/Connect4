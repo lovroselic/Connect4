{
 "cells": [
  {
   "cell_type": "markdown",
   "metadata": {},
   "source": [
    "# Setup"
   ]
  },
  {
   "cell_type": "code",
   "execution_count": 1,
   "metadata": {},
   "outputs": [],
   "source": [
    "import time\n",
    "from datetime import datetime\n",
    "\n",
    "#measure notebook running time\n",
    "start_time = time.time()"
   ]
  },
  {
   "cell_type": "code",
   "execution_count": 2,
   "metadata": {
    "_cell_guid": "b1076dfc-b9ad-4769-8c92-a6c4dae69d19",
    "_uuid": "8f2839f25d086af736a60e9eeb907d3b93b6e0e5"
   },
   "outputs": [
    {
     "ename": "ModuleNotFoundError",
     "evalue": "No module named 'kaggle_environments'",
     "output_type": "error",
     "traceback": [
      "\u001b[1;31m---------------------------------------------------------------------------\u001b[0m",
      "\u001b[1;31mModuleNotFoundError\u001b[0m                       Traceback (most recent call last)",
      "Cell \u001b[1;32mIn[2], line 7\u001b[0m\n\u001b[0;32m      4\u001b[0m \u001b[38;5;28;01mimport\u001b[39;00m \u001b[38;5;21;01mmatplotlib\u001b[39;00m\u001b[38;5;21;01m.\u001b[39;00m\u001b[38;5;21;01mpyplot\u001b[39;00m \u001b[38;5;28;01mas\u001b[39;00m \u001b[38;5;21;01mplt\u001b[39;00m\n\u001b[0;32m      5\u001b[0m get_ipython()\u001b[38;5;241m.\u001b[39mrun_line_magic(\u001b[38;5;124m'\u001b[39m\u001b[38;5;124mmatplotlib\u001b[39m\u001b[38;5;124m'\u001b[39m, \u001b[38;5;124m'\u001b[39m\u001b[38;5;124minline\u001b[39m\u001b[38;5;124m'\u001b[39m)\n\u001b[1;32m----> 7\u001b[0m \u001b[38;5;28;01mfrom\u001b[39;00m \u001b[38;5;21;01mkaggle_environments\u001b[39;00m \u001b[38;5;28;01mimport\u001b[39;00m make, evaluate\n\u001b[0;32m      8\u001b[0m env \u001b[38;5;241m=\u001b[39m make(\u001b[38;5;124m\"\u001b[39m\u001b[38;5;124mconnectx\u001b[39m\u001b[38;5;124m\"\u001b[39m, debug\u001b[38;5;241m=\u001b[39m\u001b[38;5;28;01mTrue\u001b[39;00m)\n",
      "\u001b[1;31mModuleNotFoundError\u001b[0m: No module named 'kaggle_environments'"
     ]
    }
   ],
   "source": [
    "import numpy as np \n",
    "import pandas as pd \n",
    "import random\n",
    "import matplotlib.pyplot as plt\n",
    "%matplotlib inline\n",
    "\n",
    "from kaggle_environments import make, evaluate\n",
    "env = make(\"connectx\", debug=True)"
   ]
  },
  {
   "cell_type": "markdown",
   "metadata": {},
   "source": [
    "## Downgrading TF\n",
    "i am preparing to start with RL - this is just draft"
   ]
  },
  {
   "cell_type": "code",
   "execution_count": null,
   "metadata": {
    "_kg_hide-input": true,
    "execution": {
     "iopub.execute_input": "2022-02-09T14:56:39.713487Z",
     "iopub.status.busy": "2022-02-09T14:56:39.713215Z",
     "iopub.status.idle": "2022-02-09T14:56:47.581772Z",
     "shell.execute_reply": "2022-02-09T14:56:47.580767Z",
     "shell.execute_reply.started": "2022-02-09T14:56:39.713458Z"
    }
   },
   "outputs": [],
   "source": [
    "%%time\n",
    "!pip install 'tensorflow==1.15.0'\n",
    "import tensorflow as tf"
   ]
  },
  {
   "cell_type": "code",
   "execution_count": null,
   "metadata": {
    "execution": {
     "iopub.execute_input": "2022-02-09T14:56:47.584173Z",
     "iopub.status.busy": "2022-02-09T14:56:47.583745Z",
     "iopub.status.idle": "2022-02-09T14:56:47.591919Z",
     "shell.execute_reply": "2022-02-09T14:56:47.590759Z",
     "shell.execute_reply.started": "2022-02-09T14:56:47.584118Z"
    }
   },
   "outputs": [],
   "source": [
    "tf.__version__"
   ]
  },
  {
   "cell_type": "code",
   "execution_count": null,
   "metadata": {
    "_kg_hide-output": true,
    "execution": {
     "iopub.execute_input": "2022-02-09T14:56:47.594245Z",
     "iopub.status.busy": "2022-02-09T14:56:47.593993Z",
     "iopub.status.idle": "2022-02-09T14:57:00.646999Z",
     "shell.execute_reply": "2022-02-09T14:57:00.645894Z",
     "shell.execute_reply.started": "2022-02-09T14:56:47.594216Z"
    }
   },
   "outputs": [],
   "source": [
    "%%time\n",
    "!apt-get update\n",
    "!apt-get install -y cmake libopenmpi-dev python3-dev zlib1g-dev\n",
    "!pip install \"stable-baselines[mpi]==2.9.0\""
   ]
  },
  {
   "cell_type": "code",
   "execution_count": null,
   "metadata": {
    "execution": {
     "iopub.execute_input": "2022-02-09T14:57:00.650015Z",
     "iopub.status.busy": "2022-02-09T14:57:00.6492Z",
     "iopub.status.idle": "2022-02-09T14:57:00.65594Z",
     "shell.execute_reply": "2022-02-09T14:57:00.654921Z",
     "shell.execute_reply.started": "2022-02-09T14:57:00.649956Z"
    }
   },
   "outputs": [],
   "source": [
    "import os\n",
    "from stable_baselines.bench import Monitor \n",
    "from stable_baselines.common.vec_env import DummyVecEnv\n",
    "from stable_baselines import PPO1, A2C, ACER, ACKTR, TRPO\n",
    "from stable_baselines.a2c.utils import conv, linear, conv_to_fc\n",
    "from stable_baselines.common.policies import CnnPolicy"
   ]
  },
  {
   "cell_type": "code",
   "execution_count": null,
   "metadata": {
    "execution": {
     "iopub.execute_input": "2022-02-09T14:57:00.658521Z",
     "iopub.status.busy": "2022-02-09T14:57:00.657565Z",
     "iopub.status.idle": "2022-02-09T14:57:00.671566Z",
     "shell.execute_reply": "2022-02-09T14:57:00.670593Z",
     "shell.execute_reply.started": "2022-02-09T14:57:00.658472Z"
    }
   },
   "outputs": [],
   "source": [
    "from gym import spaces\n",
    "\n",
    "class ConnectFourGym:\n",
    "    def __init__(self, agent2=\"random\"):\n",
    "        ks_env = make(\"connectx\", debug=True)\n",
    "        self.env = ks_env.train([None, agent2])\n",
    "        self.rows = ks_env.configuration.rows\n",
    "        self.columns = ks_env.configuration.columns\n",
    "        # Learn about spaces here: http://gym.openai.com/docs/#spaces\n",
    "        self.action_space = spaces.Discrete(self.columns)\n",
    "        self.observation_space = spaces.Box(low=0, high=2, shape=(self.rows,self.columns,1), dtype=int)\n",
    "        # Tuple corresponding to the min and max possible rewards\n",
    "        self.reward_range = (-10, 1)\n",
    "        # StableBaselines throws error if these are not defined\n",
    "        self.spec = None\n",
    "        self.metadata = None\n",
    "    def reset(self):\n",
    "        self.obs = self.env.reset()\n",
    "        return np.array(self.obs['board']).reshape(self.rows,self.columns,1)\n",
    "    def change_reward(self, old_reward, done):\n",
    "        if old_reward == 1: # The agent won the game\n",
    "            return 1\n",
    "        elif done: # The opponent won the game\n",
    "            return -1\n",
    "        else: # Reward 1/42\n",
    "            return 1/(self.rows*self.columns)\n",
    "    def step(self, action):\n",
    "        # Check if agent's move is valid\n",
    "        is_valid = (self.obs['board'][int(action)] == 0)\n",
    "        if is_valid: # Play the move\n",
    "            self.obs, old_reward, done, _ = self.env.step(int(action))\n",
    "            reward = self.change_reward(old_reward, done)\n",
    "        else: # End the game and penalize agent\n",
    "            reward, done, _ = -10, True, {}\n",
    "        return np.array(self.obs['board']).reshape(self.rows,self.columns,1), reward, done, _"
   ]
  },
  {
   "cell_type": "code",
   "execution_count": null,
   "metadata": {
    "execution": {
     "iopub.execute_input": "2022-02-09T14:57:00.67313Z",
     "iopub.status.busy": "2022-02-09T14:57:00.672794Z",
     "iopub.status.idle": "2022-02-09T14:57:00.687489Z",
     "shell.execute_reply": "2022-02-09T14:57:00.686573Z",
     "shell.execute_reply.started": "2022-02-09T14:57:00.673083Z"
    }
   },
   "outputs": [],
   "source": [
    "def get_win_percentages(agent1, agent2, n_rounds=100):\n",
    "    config = {'rows': 6, 'columns': 7, 'inarow': 4}      \n",
    "    outcomes = evaluate(\"connectx\", [agent1, agent2], config, [], n_rounds//2)  \n",
    "    outcomes += [[b,a] for [a,b] in evaluate(\"connectx\", [agent2, agent1], config, [], n_rounds-n_rounds//2)]\n",
    "    print(\"Agent 1 Win Percentage:\", np.round(outcomes.count([1,-1])/len(outcomes), 2))\n",
    "    print(\"Agent 2 Win Percentage:\", np.round(outcomes.count([-1,1])/len(outcomes), 2))\n",
    "    print(\"Number of Invalid Plays by Agent 1:\", outcomes.count([None, 0]))\n",
    "    print(\"Number of Invalid Plays by Agent 2:\", outcomes.count([0, None]))"
   ]
  },
  {
   "cell_type": "markdown",
   "metadata": {},
   "source": [
    "---"
   ]
  },
  {
   "cell_type": "markdown",
   "metadata": {
    "execution": {
     "iopub.execute_input": "2022-02-01T06:54:01.046979Z",
     "iopub.status.busy": "2022-02-01T06:54:01.04669Z",
     "iopub.status.idle": "2022-02-01T06:54:01.051322Z",
     "shell.execute_reply": "2022-02-01T06:54:01.050652Z",
     "shell.execute_reply.started": "2022-02-01T06:54:01.046946Z"
    }
   },
   "source": [
    "# Agents"
   ]
  },
  {
   "cell_type": "markdown",
   "metadata": {},
   "source": [
    "## Random"
   ]
  },
  {
   "cell_type": "code",
   "execution_count": null,
   "metadata": {
    "execution": {
     "iopub.execute_input": "2022-02-09T14:57:00.689352Z",
     "iopub.status.busy": "2022-02-09T14:57:00.689004Z",
     "iopub.status.idle": "2022-02-09T14:57:00.70256Z",
     "shell.execute_reply": "2022-02-09T14:57:00.70176Z",
     "shell.execute_reply.started": "2022-02-09T14:57:00.689308Z"
    }
   },
   "outputs": [],
   "source": [
    "def agent_random(obs, config):\n",
    "    import random\n",
    "    valid_moves = [col for col in range(config.columns) if obs.board[col] == 0]\n",
    "    return random.choice(valid_moves)"
   ]
  },
  {
   "cell_type": "markdown",
   "metadata": {},
   "source": [
    "## Win & block Check (Simple)"
   ]
  },
  {
   "cell_type": "code",
   "execution_count": null,
   "metadata": {
    "execution": {
     "iopub.execute_input": "2022-02-09T14:57:00.704281Z",
     "iopub.status.busy": "2022-02-09T14:57:00.703949Z",
     "iopub.status.idle": "2022-02-09T14:57:00.722327Z",
     "shell.execute_reply": "2022-02-09T14:57:00.721406Z",
     "shell.execute_reply.started": "2022-02-09T14:57:00.704237Z"
    }
   },
   "outputs": [],
   "source": [
    "def agent_simple(obs, config):\n",
    "    import random\n",
    "    import numpy as np\n",
    "    \n",
    "    ########################################################\n",
    "    \n",
    "    def drop_piece(grid, col, piece, config):\n",
    "        next_grid = grid.copy()\n",
    "        for row in range(config.rows-1, -1, -1):\n",
    "            if next_grid[row][col] == 0:\n",
    "                break\n",
    "        next_grid[row][col] = piece\n",
    "        return next_grid\n",
    "\n",
    "    def check_winning_move(obs, config, col, piece):\n",
    "        grid = np.asarray(obs.board).reshape(config.rows, config.columns)\n",
    "        next_grid = drop_piece(grid, col, piece, config)\n",
    "        # horizontal\n",
    "        for row in range(config.rows):\n",
    "            for col in range(config.columns-(config.inarow-1)):\n",
    "                window = list(next_grid[row, col:col + config.inarow])\n",
    "                if window.count(piece) == config.inarow:\n",
    "                    return True\n",
    "        # vertical\n",
    "        for row in range(config.rows-(config.inarow-1)):\n",
    "            for col in range(config.columns):\n",
    "                window = list(next_grid[row:row + config.inarow,col])\n",
    "                if window.count(piece) == config.inarow:\n",
    "                    return True\n",
    "        # positive diagonal\n",
    "        for row in range(config.rows-(config.inarow-1)):\n",
    "            for col in range(config.columns-(config.inarow-1)):\n",
    "                window = list(next_grid[range(row, row + config.inarow), range(col, col + config.inarow)])\n",
    "                if window.count(piece) == config.inarow:\n",
    "                    return True\n",
    "        # negative diagonal\n",
    "        for row in range(config.inarow-1, config.rows):\n",
    "            for col in range(config.columns-(config.inarow-1)):\n",
    "                window = list(next_grid[range(row, row-config.inarow, -1), range(col, col+config.inarow)])\n",
    "                if window.count(piece) == config.inarow:\n",
    "                    return True\n",
    "        return False\n",
    "\n",
    "    ########################################################\n",
    "    \n",
    "    valid_moves = [col for col in range(config.columns) if obs.board[col] == 0]\n",
    "    valid_moves_win = [move for move in valid_moves if check_winning_move(obs, config, move, obs.mark)]\n",
    "    \n",
    "    if (len(valid_moves_win) > 0): \n",
    "        return random.choice(valid_moves_win)\n",
    "    \n",
    "    valid_moves_block = [move for move in valid_moves if check_winning_move(obs, config, move, obs.mark%2+1)]\n",
    "    \n",
    "    if (len(valid_moves_block) > 0): \n",
    "        return random.choice(valid_moves_block)\n",
    "    \n",
    "    return random.choice(valid_moves)"
   ]
  },
  {
   "cell_type": "markdown",
   "metadata": {},
   "source": [
    "## 1-step lookahead"
   ]
  },
  {
   "cell_type": "code",
   "execution_count": null,
   "metadata": {
    "execution": {
     "iopub.execute_input": "2022-02-09T14:57:00.726684Z",
     "iopub.status.busy": "2022-02-09T14:57:00.726412Z",
     "iopub.status.idle": "2022-02-09T14:57:00.745545Z",
     "shell.execute_reply": "2022-02-09T14:57:00.744584Z",
     "shell.execute_reply.started": "2022-02-09T14:57:00.726653Z"
    }
   },
   "outputs": [],
   "source": [
    "def one_step_lookahead(obs, config):\n",
    "    import random\n",
    "    import numpy as np\n",
    "    \n",
    "    ########################################################\n",
    "\n",
    "    def score_move(grid, col, mark, config):\n",
    "        next_grid = drop_piece(grid, col, mark, config)\n",
    "        score = get_heuristic(next_grid, mark, config)\n",
    "        return score\n",
    "\n",
    "    def drop_piece(grid, col, mark, config):\n",
    "        next_grid = grid.copy()\n",
    "        for row in range(config.rows-1, -1, -1):\n",
    "            if next_grid[row][col] == 0:\n",
    "                break\n",
    "        next_grid[row][col] = mark\n",
    "        return next_grid\n",
    "    \n",
    "    def get_heuristic(grid, mark, config):\n",
    "        A = 1e6\n",
    "        B = 1\n",
    "        C = 0.5\n",
    "        D = -0.5\n",
    "        E = -1e2\n",
    "        num_twos = count_windows(grid, 2, mark, config)\n",
    "        num_threes = count_windows(grid, 3, mark, config)\n",
    "        num_fours = count_windows(grid, 4, mark, config)\n",
    "        num_twos_opp = count_windows(grid, 2, mark%2+1, config)\n",
    "        num_threes_opp = count_windows(grid, 3, mark%2+1, config)\n",
    "        score = A*num_fours + B*num_threes + C*num_twos + D*num_twos_opp + E*num_threes_opp\n",
    "        return score\n",
    "    \n",
    "    def check_window(window, num_discs, piece, config):\n",
    "        return (window.count(piece) == num_discs and window.count(0) == config.inarow - num_discs)\n",
    "    \n",
    "    def count_windows(grid, num_discs, piece, config):\n",
    "        num_windows = 0\n",
    "        # horizontal\n",
    "        for row in range(config.rows):\n",
    "            for col in range(config.columns-(config.inarow-1)):\n",
    "                window = list(grid[row, col:col + config.inarow])\n",
    "                if check_window(window, num_discs, piece, config):\n",
    "                    num_windows += 1\n",
    "        # vertical\n",
    "        for row in range(config.rows-(config.inarow-1)):\n",
    "            for col in range(config.columns):\n",
    "                window = list(grid[row:row + config.inarow, col])\n",
    "                if check_window(window, num_discs, piece, config):\n",
    "                    num_windows += 1\n",
    "        # positive diagonal\n",
    "        for row in range(config.rows-(config.inarow-1)):\n",
    "            for col in range(config.columns-(config.inarow-1)):\n",
    "                window = list(grid[range(row, row + config.inarow), range(col, col+config.inarow)])\n",
    "                if check_window(window, num_discs, piece, config):\n",
    "                    num_windows += 1\n",
    "        # negative diagonal\n",
    "        for row in range(config.inarow-1, config.rows):\n",
    "            for col in range(config.columns-(config.inarow-1)):\n",
    "                window = list(grid[range(row, row-config.inarow, -1), range(col, col+config.inarow)])\n",
    "                if check_window(window, num_discs, piece, config):\n",
    "                    num_windows += 1\n",
    "        return num_windows\n",
    "    \n",
    "    ########################################################\n",
    "    valid_moves = [c for c in range(config.columns) if obs.board[c] == 0]\n",
    "    grid = np.asarray(obs.board).reshape(config.rows, config.columns)\n",
    "    scores = dict(zip(valid_moves, [score_move(grid, col, obs.mark, config) for col in valid_moves]))\n",
    "    max_cols = [key for key in scores.keys() if scores[key] == max(scores.values())]\n",
    "    return random.choice(max_cols)"
   ]
  },
  {
   "cell_type": "markdown",
   "metadata": {},
   "source": [
    "---"
   ]
  },
  {
   "cell_type": "markdown",
   "metadata": {},
   "source": [
    "# N-step lookahead"
   ]
  },
  {
   "cell_type": "code",
   "execution_count": null,
   "metadata": {
    "execution": {
     "iopub.execute_input": "2022-02-09T14:57:00.747703Z",
     "iopub.status.busy": "2022-02-09T14:57:00.747086Z",
     "iopub.status.idle": "2022-02-09T14:57:00.779814Z",
     "shell.execute_reply": "2022-02-09T14:57:00.779127Z",
     "shell.execute_reply.started": "2022-02-09T14:57:00.74767Z"
    }
   },
   "outputs": [],
   "source": [
    "def N_step_lookahead(obs, config):\n",
    "    import random\n",
    "    import numpy as np\n",
    "    N_STEPS = 3\n",
    "    \n",
    "    ########################################################\n",
    "\n",
    "    def score_move(grid, col, mark, config, nsteps):\n",
    "        next_grid = drop_piece(grid, col, mark, config)\n",
    "        score = minimax(next_grid, nsteps-1, False, mark, config, -np.Inf, np.Inf)\n",
    "        return score\n",
    "\n",
    "    def drop_piece(grid, col, mark, config):\n",
    "        next_grid = grid.copy()\n",
    "        for row in range(config.rows-1, -1, -1):\n",
    "            if next_grid[row][col] == 0:\n",
    "                break\n",
    "        next_grid[row][col] = mark\n",
    "        return next_grid\n",
    "    \n",
    "    def get_heuristic(grid, mark, config):\n",
    "        A = 1e6\n",
    "        B = 1e2\n",
    "        C = 1\n",
    "        D = -1\n",
    "        E = -1e2\n",
    "        F = -1e6\n",
    "        num_twos = count_windows(grid, 2, mark, config)\n",
    "        num_threes = count_windows(grid, 3, mark, config)\n",
    "        num_fours = count_windows(grid, 4, mark, config)\n",
    "        num_twos_opp = count_windows(grid, 2, mark%2+1, config)\n",
    "        num_threes_opp = count_windows(grid, 3, mark%2+1, config)\n",
    "        num_fours_opp = count_windows(grid, 4, mark%2+1, config)\n",
    "        score = A*num_fours + B*num_threes + C*num_twos + D*num_twos_opp + E*num_threes_opp +F *num_fours_opp\n",
    "        return score\n",
    "    \n",
    "    def check_window(window, num_discs, piece, config):\n",
    "        return (window.count(piece) == num_discs and window.count(0) == config.inarow - num_discs)\n",
    "    \n",
    "    def count_windows(grid, num_discs, piece, config):\n",
    "        num_windows = 0\n",
    "        # horizontal\n",
    "        for row in range(config.rows):\n",
    "            for col in range(config.columns-(config.inarow-1)):\n",
    "                window = list(grid[row, col:col + config.inarow])\n",
    "                if check_window(window, num_discs, piece, config):\n",
    "                    num_windows += 1\n",
    "        # vertical\n",
    "        for row in range(config.rows-(config.inarow-1)):\n",
    "            for col in range(config.columns):\n",
    "                window = list(grid[row:row + config.inarow, col])\n",
    "                if check_window(window, num_discs, piece, config):\n",
    "                    num_windows += 1\n",
    "        # positive diagonal\n",
    "        for row in range(config.rows-(config.inarow-1)):\n",
    "            for col in range(config.columns-(config.inarow-1)):\n",
    "                window = list(grid[range(row, row + config.inarow), range(col, col+config.inarow)])\n",
    "                if check_window(window, num_discs, piece, config):\n",
    "                    num_windows += 1\n",
    "        # negative diagonal\n",
    "        for row in range(config.inarow-1, config.rows):\n",
    "            for col in range(config.columns-(config.inarow-1)):\n",
    "                window = list(grid[range(row, row-config.inarow, -1), range(col, col+config.inarow)])\n",
    "                if check_window(window, num_discs, piece, config):\n",
    "                    num_windows += 1\n",
    "        return num_windows\n",
    "    \n",
    "\n",
    "    def is_terminal_window(window, config):\n",
    "        return window.count(1) == config.inarow or window.count(2) == config.inarow\n",
    "\n",
    "    def is_terminal_node(grid, config):\n",
    "        # Check for draw \n",
    "        if list(grid[0, :]).count(0) == 0:\n",
    "            return True\n",
    "        # Check for win: horizontal, vertical, or diagonal\n",
    "        # horizontal \n",
    "        for row in range(config.rows):\n",
    "            for col in range(config.columns - (config.inarow - 1)):\n",
    "                window = list(grid[row, col:col + config.inarow])\n",
    "                if is_terminal_window(window, config):\n",
    "                    return True\n",
    "        # vertical\n",
    "        for row in range(config.rows - (config.inarow - 1)):\n",
    "            for col in range(config.columns):\n",
    "                window = list(grid[row:row + config.inarow, col])\n",
    "                if is_terminal_window(window, config):\n",
    "                    return True\n",
    "        # positive diagonal\n",
    "        for row in range(config.rows - (config.inarow - 1)):\n",
    "            for col in range(config.columns-(config.inarow-1)):\n",
    "                window = list(grid[range(row, row + config.inarow), range(col, col + config.inarow)])\n",
    "                if is_terminal_window(window, config):\n",
    "                    return True\n",
    "        # negative diagonal\n",
    "        for row in range(config.inarow -1, config.rows):\n",
    "            for col in range(config.columns-(config.inarow-1)):\n",
    "                window = list(grid[range(row, row - config.inarow, -1), range(col, col + config.inarow)])\n",
    "                if is_terminal_window(window, config):\n",
    "                    return True\n",
    "        return False\n",
    "    \n",
    "    ########################################################\n",
    "    \n",
    "    # Minimax, ab pruning\n",
    "    def minimax(node, depth, maximizingPlayer, mark, config, A, B):\n",
    "        if depth == 0 or is_terminal_node(node, config):\n",
    "            return get_heuristic(node, mark, config)\n",
    "        \n",
    "        valid_moves = [c for c in range(config.columns) if node[0][c] == 0]\n",
    "        \n",
    "        if maximizingPlayer:\n",
    "            value = -np.Inf\n",
    "            for col in valid_moves:\n",
    "                child = drop_piece(node, col, mark, config)\n",
    "                value = max(value, minimax(child, depth-1, False, mark, config, A, B))\n",
    "                if value >= B:\n",
    "                    break\n",
    "                A = max(A, value)\n",
    "            return value\n",
    "        else:\n",
    "            value = np.Inf\n",
    "            for col in valid_moves:\n",
    "                child = drop_piece(node, col, mark%2+1, config)\n",
    "                value = min(value, minimax(child, depth-1, True, mark, config, A, B))\n",
    "                if value <= A:\n",
    "                    break\n",
    "                B = min(B, value)\n",
    "            return value\n",
    "        \n",
    "    def innermost(arr):\n",
    "        mid = (config.columns - 1) / 2\n",
    "        distance = [-abs(c-mid) for c in arr]\n",
    "        return arr[np.argmax(distance)]\n",
    "\n",
    "    ########################################################\n",
    "\n",
    "    order = [config.columns//2 - i//2 - 1 if i%2 else config.columns//2 + i//2 for i in range(config.columns)]\n",
    "    valid_moves = [c for c in order if obs.board[c] == 0]\n",
    "    grid = np.asarray(obs.board).reshape(config.rows, config.columns)\n",
    "    scores = dict(zip(valid_moves, [score_move(grid, col, obs.mark, config, N_STEPS) for col in valid_moves]))\n",
    "    max_cols = [key for key in scores.keys() if scores[key] == max(scores.values())]\n",
    "    return innermost(max_cols)"
   ]
  },
  {
   "cell_type": "markdown",
   "metadata": {},
   "source": [
    "---"
   ]
  },
  {
   "cell_type": "markdown",
   "metadata": {},
   "source": [
    "# N-step lookahead (fast)\n",
    "N-step lookahead from tutorial is pretty slow. It's too expensive to look more than 3 steps ahead.<br>\n",
    "It is posible to make it faster by switching some badly positioned lines, but altogehter with memoization of patterns, it gets more that 10x faster.<br>"
   ]
  },
  {
   "cell_type": "code",
   "execution_count": null,
   "metadata": {
    "execution": {
     "iopub.execute_input": "2022-02-09T14:57:00.781924Z",
     "iopub.status.busy": "2022-02-09T14:57:00.781467Z",
     "iopub.status.idle": "2022-02-09T14:57:00.808508Z",
     "shell.execute_reply": "2022-02-09T14:57:00.807768Z",
     "shell.execute_reply.started": "2022-02-09T14:57:00.781891Z"
    }
   },
   "outputs": [],
   "source": [
    "def N_step_lookahead_fast_neutral(obs, config):\n",
    "    import random\n",
    "    import numpy as np\n",
    "    #N_STEPS = 5\n",
    "    #N_STEPS = 4\n",
    "    N_STEPS = 3\n",
    "    \n",
    "    ########################################################\n",
    "    def boardToPatterns(grid, config):\n",
    "        pats = boardDiagonals(grid, config)\n",
    "        pats.extend(boardHorizontals(grid, config))\n",
    "        pats.extend(boardHorizontals(grid.T, config))\n",
    "        pats = list(filter(lambda x: x.count(0) <= 2, pats))\n",
    "        return pats\n",
    "\n",
    "\n",
    "    def boardDiagonals(grid, config):\n",
    "        diags = []\n",
    "        for col in range(config.columns - (config.inarow - 1)):\n",
    "            for row in range(config.rows - (config.inarow - 1)):\n",
    "                w = []\n",
    "                for i in range(config.inarow):\n",
    "                    w.append(grid[row+i][col+i])\n",
    "                diags.append(w)\n",
    "                for row in range(config.inarow - 1, config.rows):\n",
    "                    w = []\n",
    "                    for i in range(config.inarow):\n",
    "                        w.append(grid[row-i][col+i])\n",
    "                diags.append(w)\n",
    "        return diags\n",
    "\n",
    "\n",
    "    def boardHorizontals(grid, config):\n",
    "        pats = []\n",
    "        for row in range(grid.shape[0]):\n",
    "            for col in range(grid.shape[1] - (config.inarow - 1)):\n",
    "                pats.append(list(grid[row, col:col + config.inarow]))\n",
    "        return pats\n",
    "\n",
    "    def score_move(grid, col, mark, config, nsteps):\n",
    "        next_grid = drop_piece(grid, col, mark, config)\n",
    "        score = minimax(next_grid, nsteps-1, False, mark, config, -np.Inf, np.Inf, boardToPatterns(next_grid, config))\n",
    "        #print(col, mark,score)\n",
    "        return score\n",
    "\n",
    "    def drop_piece(grid, col, mark, config):\n",
    "        next_grid = grid.copy()\n",
    "        for row in range(config.rows-1, -1, -1):\n",
    "            if next_grid[row][col] == 0:\n",
    "                break\n",
    "        next_grid[row][col] = mark\n",
    "        return next_grid\n",
    "    \n",
    "    def get_heuristic(grid, mark, config, patterns):\n",
    "        weights = [1, 1e2, 1e6]\n",
    "        weights_opp = [1, 1e2, 1e6]\n",
    "        score = 0\n",
    "        for n in range(3):\n",
    "            score += count_windows_in_pattern(patterns, n + 2, mark) * weights[n]\n",
    "            score -= count_windows_in_pattern(patterns, n + 2, (mark % 2) + 1) * weights_opp[n]\n",
    "        return score\n",
    "\n",
    "    def count_windows_in_pattern(patterns, num, piece):\n",
    "        return sum([window.count(piece) == num and window.count(0) == (config.inarow - num) for window in patterns])\n",
    "\n",
    "    def is_terminal_node(grid, config, patterns):\n",
    "        #draw \n",
    "        if list(grid[0, :]).count(0) == 0:\n",
    "            return True\n",
    "        #win\n",
    "        return count_windows_in_pattern(patterns, config.inarow, 1) > 0 or count_windows_in_pattern(patterns, config.inarow, 2) > 0\n",
    "\n",
    "    \n",
    "    ########################################################\n",
    "    \n",
    "    # Minimax, ab pruning\n",
    "    def minimax(node, depth, maximizingPlayer, mark, config, A, B, patterns):\n",
    "        if depth == 0 or is_terminal_node(node, config, patterns):\n",
    "            return get_heuristic(node, mark, config, patterns)\n",
    "\n",
    "        valid_moves = [c for c in range(config.columns) if node[0][c] == 0]\n",
    "\n",
    "        if maximizingPlayer:\n",
    "            value = -np.Inf\n",
    "            for col in valid_moves:\n",
    "                child = drop_piece(node, col, mark, config)\n",
    "                value = max(value, minimax(child, depth-1, False, mark, config, A, B, boardToPatterns(child, config)))\n",
    "                if value >= B:\n",
    "                    break\n",
    "                A = max(A, value)\n",
    "            return value\n",
    "        else:\n",
    "            value = np.Inf\n",
    "            for col in valid_moves:\n",
    "                child = drop_piece(node, col, mark%2+1, config)\n",
    "                value = min(value, minimax(child, depth-1, True, mark, config, A, B, boardToPatterns(child, config)))\n",
    "                if value <= A:\n",
    "                    break\n",
    "                B = min(B, value)\n",
    "            return value\n",
    "\n",
    "    def innermost(arr):\n",
    "        mid = (config.columns - 1) / 2\n",
    "        distance = [-abs(c-mid) for c in arr]\n",
    "        return arr[np.argmax(distance)]\n",
    "\n",
    "    ########################################################\n",
    "\n",
    "    order = [config.columns//2 - i//2 - 1 if i%2 else config.columns//2 + i//2 for i in range(config.columns)]\n",
    "    valid_moves = [c for c in order if obs.board[c] == 0]\n",
    "    grid = np.asarray(obs.board).reshape(config.rows, config.columns)\n",
    "    scores = dict(zip(valid_moves, [score_move(grid, col, obs.mark, config, N_STEPS) for col in valid_moves]))\n",
    "    max_cols = [key for key in scores.keys() if scores[key] == max(scores.values())]\n",
    "    return innermost(max_cols)"
   ]
  },
  {
   "cell_type": "code",
   "execution_count": null,
   "metadata": {
    "execution": {
     "iopub.execute_input": "2022-02-09T14:57:00.810571Z",
     "iopub.status.busy": "2022-02-09T14:57:00.810232Z",
     "iopub.status.idle": "2022-02-09T14:57:00.838373Z",
     "shell.execute_reply": "2022-02-09T14:57:00.837394Z",
     "shell.execute_reply.started": "2022-02-09T14:57:00.810524Z"
    }
   },
   "outputs": [],
   "source": [
    "def N_step_lookahead_fast(obs, config):\n",
    "    import random\n",
    "    import numpy as np\n",
    "    N_STEPS = 5\n",
    "    #N_STEPS = 4\n",
    "    #N_STEPS = 3\n",
    "    \n",
    "    ########################################################\n",
    "    def boardToPatterns(grid, config):\n",
    "        pats = boardDiagonals(grid, config)\n",
    "        pats.extend(boardHorizontals(grid, config))\n",
    "        pats.extend(boardHorizontals(grid.T, config))\n",
    "        pats = list(filter(lambda x: x.count(0) <= 2, pats))\n",
    "        return pats\n",
    "\n",
    "\n",
    "    def boardDiagonals(grid, config):\n",
    "        diags = []\n",
    "        for col in range(config.columns - (config.inarow - 1)):\n",
    "            for row in range(config.rows - (config.inarow - 1)):\n",
    "                w = []\n",
    "                for i in range(config.inarow):\n",
    "                    w.append(grid[row+i][col+i])\n",
    "                diags.append(w)\n",
    "                for row in range(config.inarow - 1, config.rows):\n",
    "                    w = []\n",
    "                    for i in range(config.inarow):\n",
    "                        w.append(grid[row-i][col+i])\n",
    "                diags.append(w)\n",
    "        return diags\n",
    "\n",
    "\n",
    "    def boardHorizontals(grid, config):\n",
    "        pats = []\n",
    "        for row in range(grid.shape[0]):\n",
    "            for col in range(grid.shape[1] - (config.inarow - 1)):\n",
    "                pats.append(list(grid[row, col:col + config.inarow]))\n",
    "        return pats\n",
    "\n",
    "    def score_move(grid, col, mark, config, nsteps):\n",
    "        next_grid = drop_piece(grid, col, mark, config)\n",
    "        score = minimax(next_grid, nsteps-1, False, mark, config, -np.Inf, np.Inf, boardToPatterns(next_grid, config))\n",
    "        return score\n",
    "\n",
    "    def drop_piece(grid, col, mark, config):\n",
    "        next_grid = grid.copy()\n",
    "        for row in range(config.rows-1, -1, -1):\n",
    "            if next_grid[row][col] == 0:\n",
    "                break\n",
    "        next_grid[row][col] = mark\n",
    "        return next_grid\n",
    "    \n",
    "    def get_heuristic(grid, mark, config, patterns):\n",
    "        weights = [1, 1e2, 1e6]\n",
    "        weights_opp = [1.1, 1.1e2, 1e6]\n",
    "        score = 0\n",
    "        for n in range(3):\n",
    "            score += count_windows_in_pattern(patterns, n + 2, mark) * weights[n]\n",
    "            score -= count_windows_in_pattern(patterns, n + 2, (mark % 2) + 1) * weights_opp[n]\n",
    "        return score\n",
    "\n",
    "    def count_windows_in_pattern(patterns, num, piece):\n",
    "        return sum([window.count(piece) == num and window.count(0) == (config.inarow - num) for window in patterns])\n",
    "\n",
    "    def is_terminal_node(grid, config, patterns):\n",
    "        #draw \n",
    "        if list(grid[0, :]).count(0) == 0:\n",
    "            return True\n",
    "        #win\n",
    "        return count_windows_in_pattern(patterns, config.inarow, 1) > 0 or count_windows_in_pattern(patterns, config.inarow, 2) > 0\n",
    "\n",
    "    \n",
    "    ########################################################\n",
    "    \n",
    "    # Minimax, ab pruning\n",
    "    def minimax(node, depth, maximizingPlayer, mark, config, A, B, patterns):\n",
    "        if depth == 0 or is_terminal_node(node, config, patterns):\n",
    "            return get_heuristic(node, mark, config, patterns)\n",
    "\n",
    "        valid_moves = [c for c in range(config.columns) if node[0][c] == 0]\n",
    "\n",
    "        if maximizingPlayer:\n",
    "            value = -np.Inf\n",
    "            for col in valid_moves:\n",
    "                child = drop_piece(node, col, mark, config)\n",
    "                value = max(value, minimax(child, depth-1, False, mark, config, A, B, boardToPatterns(child, config)))\n",
    "                if value >= B:\n",
    "                    break\n",
    "                A = max(A, value)\n",
    "            return value\n",
    "        else:\n",
    "            value = np.Inf\n",
    "            for col in valid_moves:\n",
    "                child = drop_piece(node, col, mark%2+1, config)\n",
    "                value = min(value, minimax(child, depth-1, True, mark, config, A, B, boardToPatterns(child, config)))\n",
    "                if value <= A:\n",
    "                    break\n",
    "                B = min(B, value)\n",
    "            return value\n",
    "\n",
    "    def innermost(arr):\n",
    "        mid = (config.columns - 1) / 2\n",
    "        distance = [-abs(c-mid) for c in arr]\n",
    "        return arr[np.argmax(distance)]\n",
    "\n",
    "    ########################################################\n",
    "\n",
    "    order = [config.columns//2 - i//2 - 1 if i%2 else config.columns//2 + i//2 for i in range(config.columns)]\n",
    "    valid_moves = [c for c in order if obs.board[c] == 0]\n",
    "    grid = np.asarray(obs.board).reshape(config.rows, config.columns)\n",
    "    scores = dict(zip(valid_moves, [score_move(grid, col, obs.mark, config, N_STEPS) for col in valid_moves]))\n",
    "    max_cols = [key for key in scores.keys() if scores[key] == max(scores.values())]\n",
    "    return innermost(max_cols)"
   ]
  },
  {
   "cell_type": "markdown",
   "metadata": {},
   "source": [
    "---"
   ]
  },
  {
   "cell_type": "markdown",
   "metadata": {},
   "source": [
    "# Deep Reinforcement Learning"
   ]
  },
  {
   "cell_type": "code",
   "execution_count": null,
   "metadata": {
    "execution": {
     "iopub.execute_input": "2022-02-09T14:57:00.840648Z",
     "iopub.status.busy": "2022-02-09T14:57:00.839945Z",
     "iopub.status.idle": "2022-02-09T14:57:00.864816Z",
     "shell.execute_reply": "2022-02-09T14:57:00.864145Z",
     "shell.execute_reply.started": "2022-02-09T14:57:00.840599Z"
    }
   },
   "outputs": [],
   "source": [
    "# Create ConnectFour environment\n",
    "env = ConnectFourGym(agent2=\"random\")"
   ]
  },
  {
   "cell_type": "code",
   "execution_count": null,
   "metadata": {
    "execution": {
     "iopub.execute_input": "2022-02-09T14:57:00.867136Z",
     "iopub.status.busy": "2022-02-09T14:57:00.86612Z",
     "iopub.status.idle": "2022-02-09T14:57:00.879276Z",
     "shell.execute_reply": "2022-02-09T14:57:00.878156Z",
     "shell.execute_reply.started": "2022-02-09T14:57:00.867088Z"
    }
   },
   "outputs": [],
   "source": [
    "# import os\n",
    "# from stable_baselines.bench import Monitor \n",
    "# from stable_baselines.common.vec_env import DummyVecEnv\n",
    "\n",
    "# Create directory for logging training information\n",
    "log_dir = \"ppo/\"\n",
    "os.makedirs(log_dir, exist_ok=True)\n",
    "\n",
    "# Logging progress\n",
    "monitor_env = Monitor(env, log_dir, allow_early_resets=True)\n",
    "\n",
    "# Create a vectorized environment\n",
    "vec_env = DummyVecEnv([lambda: monitor_env])"
   ]
  },
  {
   "cell_type": "code",
   "execution_count": null,
   "metadata": {
    "execution": {
     "iopub.execute_input": "2022-02-09T14:57:00.881228Z",
     "iopub.status.busy": "2022-02-09T14:57:00.88068Z",
     "iopub.status.idle": "2022-02-09T14:57:01.84357Z",
     "shell.execute_reply": "2022-02-09T14:57:01.842919Z",
     "shell.execute_reply.started": "2022-02-09T14:57:00.881147Z"
    }
   },
   "outputs": [],
   "source": [
    "# Neural network for predicting action values\n",
    "def modified_cnn(scaled_images, **kwargs):\n",
    "    activ = tf.nn.relu\n",
    "    layer_1 = activ(conv(scaled_images, 'c1', n_filters=32, filter_size=3, stride=1, \n",
    "                         init_scale=np.sqrt(2), **kwargs))\n",
    "    layer_2 = activ(conv(layer_1, 'c2', n_filters=64, filter_size=3, stride=1, \n",
    "                         init_scale=np.sqrt(2), **kwargs))\n",
    "    layer_2 = conv_to_fc(layer_2)\n",
    "    return activ(linear(layer_2, 'fc1', n_hidden=512, init_scale=np.sqrt(2)))  \n",
    "\n",
    "class CustomCnnPolicy(CnnPolicy):\n",
    "    def __init__(self, *args, **kwargs):\n",
    "        super(CustomCnnPolicy, self).__init__(*args, **kwargs, cnn_extractor=modified_cnn)\n",
    "        \n",
    "# Initialize agent\n",
    "model = PPO1(CustomCnnPolicy, vec_env, verbose=0)"
   ]
  },
  {
   "cell_type": "code",
   "execution_count": null,
   "metadata": {
    "execution": {
     "iopub.execute_input": "2022-02-09T14:57:01.845754Z",
     "iopub.status.busy": "2022-02-09T14:57:01.845316Z",
     "iopub.status.idle": "2022-02-09T15:06:52.48457Z",
     "shell.execute_reply": "2022-02-09T15:06:52.483791Z",
     "shell.execute_reply.started": "2022-02-09T14:57:01.84571Z"
    }
   },
   "outputs": [],
   "source": [
    "%%time\n",
    "# Train agent\n",
    "model.learn(total_timesteps=100000)\n",
    "#model.save(\"C4model.gz\")"
   ]
  },
  {
   "cell_type": "code",
   "execution_count": null,
   "metadata": {
    "execution": {
     "iopub.execute_input": "2022-02-09T15:06:52.486619Z",
     "iopub.status.busy": "2022-02-09T15:06:52.485773Z",
     "iopub.status.idle": "2022-02-09T15:06:53.556646Z",
     "shell.execute_reply": "2022-02-09T15:06:53.555522Z",
     "shell.execute_reply.started": "2022-02-09T15:06:52.486575Z"
    }
   },
   "outputs": [],
   "source": [
    "#model = model.load(\"C4model.gz\")"
   ]
  },
  {
   "cell_type": "code",
   "execution_count": null,
   "metadata": {
    "execution": {
     "iopub.execute_input": "2022-02-09T15:06:53.559811Z",
     "iopub.status.busy": "2022-02-09T15:06:53.559408Z",
     "iopub.status.idle": "2022-02-09T15:06:53.766966Z",
     "shell.execute_reply": "2022-02-09T15:06:53.765984Z",
     "shell.execute_reply.started": "2022-02-09T15:06:53.559761Z"
    }
   },
   "outputs": [],
   "source": [
    "# Plot cumulative reward\n",
    "with open(os.path.join(log_dir, \"monitor.csv\"), 'rt') as fh:    \n",
    "    firstline = fh.readline()\n",
    "    assert firstline[0] == '#'\n",
    "    df = pd.read_csv(fh, index_col=None)['r']\n",
    "df.rolling(window=1000).mean().plot()\n",
    "plt.show()\n"
   ]
  },
  {
   "cell_type": "code",
   "execution_count": null,
   "metadata": {
    "execution": {
     "iopub.execute_input": "2022-02-09T15:06:53.769095Z",
     "iopub.status.busy": "2022-02-09T15:06:53.768428Z",
     "iopub.status.idle": "2022-02-09T15:06:53.776285Z",
     "shell.execute_reply": "2022-02-09T15:06:53.774974Z",
     "shell.execute_reply.started": "2022-02-09T15:06:53.769025Z"
    }
   },
   "outputs": [],
   "source": [
    "def agent_RL(obs, config):\n",
    "    \n",
    "    ##########################################################\n",
    "    # prerequisites\n",
    "    ##########################################################\n",
    "    \n",
    "    \n",
    "    # Initialize agent\n",
    "    #model = PPO1(CustomCnnPolicy, vec_env, verbose=0)\n",
    "    #model = model.load(\"C4model\")\n",
    "    \n",
    "    ##########################################################\n",
    "    # Use the best model to select a column\n",
    "    col, _ = model.predict(np.array(obs['board']).reshape(6,7,1))\n",
    "    # Check if selected column is valid\n",
    "    is_valid = (obs['board'][int(col)] == 0)\n",
    "    # If not valid, select random move. \n",
    "    if is_valid:\n",
    "        return int(col)\n",
    "    else:\n",
    "        return random.choice([col for col in range(config.columns) if obs.board[int(col)] == 0])"
   ]
  },
  {
   "cell_type": "markdown",
   "metadata": {},
   "source": [
    "---"
   ]
  },
  {
   "cell_type": "markdown",
   "metadata": {},
   "source": [
    "# Simulation & check"
   ]
  },
  {
   "cell_type": "code",
   "execution_count": null,
   "metadata": {
    "execution": {
     "iopub.execute_input": "2022-02-09T15:06:53.778051Z",
     "iopub.status.busy": "2022-02-09T15:06:53.777434Z",
     "iopub.status.idle": "2022-02-09T15:06:53.800232Z",
     "shell.execute_reply": "2022-02-09T15:06:53.799329Z",
     "shell.execute_reply.started": "2022-02-09T15:06:53.77801Z"
    }
   },
   "outputs": [],
   "source": [
    "env = make(\"connectx\", debug=True)"
   ]
  },
  {
   "cell_type": "code",
   "execution_count": null,
   "metadata": {
    "execution": {
     "iopub.execute_input": "2022-02-09T15:06:53.801873Z",
     "iopub.status.busy": "2022-02-09T15:06:53.801447Z",
     "iopub.status.idle": "2022-02-09T15:06:56.853115Z",
     "shell.execute_reply": "2022-02-09T15:06:56.85146Z",
     "shell.execute_reply.started": "2022-02-09T15:06:53.801839Z"
    }
   },
   "outputs": [],
   "source": [
    "env.run([agent_RL, \"random\"])\n",
    "env.render(mode=\"ipython\")"
   ]
  },
  {
   "cell_type": "code",
   "execution_count": null,
   "metadata": {
    "execution": {
     "iopub.execute_input": "2022-02-09T15:06:56.855859Z",
     "iopub.status.busy": "2022-02-09T15:06:56.855468Z",
     "iopub.status.idle": "2022-02-09T15:06:59.465012Z",
     "shell.execute_reply": "2022-02-09T15:06:59.463993Z",
     "shell.execute_reply.started": "2022-02-09T15:06:56.855809Z"
    }
   },
   "outputs": [],
   "source": [
    "env.run([agent_RL, agent_simple])\n",
    "env.render(mode=\"ipython\")"
   ]
  },
  {
   "cell_type": "code",
   "execution_count": null,
   "metadata": {
    "execution": {
     "iopub.execute_input": "2022-02-09T15:06:59.466857Z",
     "iopub.status.busy": "2022-02-09T15:06:59.466588Z",
     "iopub.status.idle": "2022-02-09T15:07:07.102491Z",
     "shell.execute_reply": "2022-02-09T15:07:07.101789Z",
     "shell.execute_reply.started": "2022-02-09T15:06:59.466824Z"
    }
   },
   "outputs": [],
   "source": [
    "%%time\n",
    "print(\"best so far:\", 0.15)\n",
    "get_win_percentages(agent1=agent_simple, agent2=agent_RL)"
   ]
  },
  {
   "cell_type": "code",
   "execution_count": null,
   "metadata": {
    "execution": {
     "iopub.execute_input": "2022-02-09T15:07:07.104191Z",
     "iopub.status.busy": "2022-02-09T15:07:07.103754Z",
     "iopub.status.idle": "2022-02-09T15:07:07.107609Z",
     "shell.execute_reply": "2022-02-09T15:07:07.106946Z",
     "shell.execute_reply.started": "2022-02-09T15:07:07.104141Z"
    }
   },
   "outputs": [],
   "source": [
    "# env.run([agent_simple, N_step_lookahead_fast])\n",
    "# env.render(mode=\"ipython\")"
   ]
  },
  {
   "cell_type": "code",
   "execution_count": null,
   "metadata": {
    "execution": {
     "iopub.execute_input": "2022-02-09T15:07:07.109296Z",
     "iopub.status.busy": "2022-02-09T15:07:07.108995Z",
     "iopub.status.idle": "2022-02-09T15:07:07.12244Z",
     "shell.execute_reply": "2022-02-09T15:07:07.121357Z",
     "shell.execute_reply.started": "2022-02-09T15:07:07.109264Z"
    }
   },
   "outputs": [],
   "source": [
    "# env.run([one_step_lookahead, N_step_lookahead_fast])\n",
    "# env.render(mode=\"ipython\")"
   ]
  },
  {
   "cell_type": "code",
   "execution_count": null,
   "metadata": {
    "execution": {
     "iopub.execute_input": "2022-02-09T15:07:07.126621Z",
     "iopub.status.busy": "2022-02-09T15:07:07.126211Z",
     "iopub.status.idle": "2022-02-09T15:07:07.134903Z",
     "shell.execute_reply": "2022-02-09T15:07:07.134104Z",
     "shell.execute_reply.started": "2022-02-09T15:07:07.12657Z"
    }
   },
   "outputs": [],
   "source": [
    "# env.run([N_step_lookahead_fast, N_step_lookahead_fast])\n",
    "# env.render(mode=\"ipython\")"
   ]
  },
  {
   "cell_type": "code",
   "execution_count": null,
   "metadata": {
    "execution": {
     "iopub.execute_input": "2022-02-09T15:07:07.13871Z",
     "iopub.status.busy": "2022-02-09T15:07:07.138175Z",
     "iopub.status.idle": "2022-02-09T15:07:07.148311Z",
     "shell.execute_reply": "2022-02-09T15:07:07.147386Z",
     "shell.execute_reply.started": "2022-02-09T15:07:07.138668Z"
    }
   },
   "outputs": [],
   "source": [
    "# env.run([N_step_lookahead_fast_neutral, N_step_lookahead_fast])\n",
    "# env.render(mode=\"ipython\")"
   ]
  },
  {
   "cell_type": "code",
   "execution_count": null,
   "metadata": {
    "execution": {
     "iopub.execute_input": "2022-02-09T15:07:07.150547Z",
     "iopub.status.busy": "2022-02-09T15:07:07.149712Z",
     "iopub.status.idle": "2022-02-09T15:07:07.159886Z",
     "shell.execute_reply": "2022-02-09T15:07:07.159019Z",
     "shell.execute_reply.started": "2022-02-09T15:07:07.150495Z"
    }
   },
   "outputs": [],
   "source": [
    "# %%time\n",
    "# print(\"best so far (3 steps ahead):\", 0.98)\n",
    "# get_win_percentages(agent1=agent_simple, agent2=N_step_lookahead_fast)"
   ]
  },
  {
   "cell_type": "code",
   "execution_count": null,
   "metadata": {
    "execution": {
     "iopub.execute_input": "2022-02-09T15:07:07.161673Z",
     "iopub.status.busy": "2022-02-09T15:07:07.161244Z",
     "iopub.status.idle": "2022-02-09T15:07:07.17415Z",
     "shell.execute_reply": "2022-02-09T15:07:07.173385Z",
     "shell.execute_reply.started": "2022-02-09T15:07:07.161632Z"
    }
   },
   "outputs": [],
   "source": [
    "# %%time\n",
    "# print(\"best so far:\", 0.85, \"5-steps ahead\")\n",
    "# print(\"best so far:\", 0.72, \"4-steps ahead\")\n",
    "# print(\"best so far:\", 0.83, \"3-steps ahead\")\n",
    "# get_win_percentages(agent1=one_step_lookahead, agent2=N_step_lookahead_fast)"
   ]
  },
  {
   "cell_type": "code",
   "execution_count": null,
   "metadata": {
    "execution": {
     "iopub.execute_input": "2022-02-09T15:07:07.176015Z",
     "iopub.status.busy": "2022-02-09T15:07:07.175553Z",
     "iopub.status.idle": "2022-02-09T15:07:07.185396Z",
     "shell.execute_reply": "2022-02-09T15:07:07.184513Z",
     "shell.execute_reply.started": "2022-02-09T15:07:07.175967Z"
    }
   },
   "outputs": [],
   "source": [
    "# %%time\n",
    "# print(\"best so far:\", 1.0, \"3-steps ahead\")\n",
    "# get_win_percentages(agent1=N_step_lookahead_fast_neutral, agent2=N_step_lookahead_fast)"
   ]
  },
  {
   "cell_type": "markdown",
   "metadata": {},
   "source": [
    "---"
   ]
  },
  {
   "cell_type": "markdown",
   "metadata": {},
   "source": [
    "# Submission"
   ]
  },
  {
   "cell_type": "code",
   "execution_count": null,
   "metadata": {
    "execution": {
     "iopub.execute_input": "2022-02-09T15:07:07.187192Z",
     "iopub.status.busy": "2022-02-09T15:07:07.186738Z",
     "iopub.status.idle": "2022-02-09T15:07:07.206001Z",
     "shell.execute_reply": "2022-02-09T15:07:07.205317Z",
     "shell.execute_reply.started": "2022-02-09T15:07:07.187142Z"
    }
   },
   "outputs": [],
   "source": [
    "import inspect\n",
    "import os\n",
    "\n",
    "def write_agent_to_file(function, file):\n",
    "    with open(file, \"a\" if os.path.exists(file) else \"w\") as f:\n",
    "        f.write(inspect.getsource(function))\n",
    "        print(function, \"written to\", file)\n",
    "\n",
    "write_agent_to_file(N_step_lookahead_fast, \"submission.py\")"
   ]
  },
  {
   "cell_type": "markdown",
   "metadata": {},
   "source": [
    "## Validate Submission"
   ]
  },
  {
   "cell_type": "code",
   "execution_count": null,
   "metadata": {
    "execution": {
     "iopub.execute_input": "2022-02-09T15:07:07.207637Z",
     "iopub.status.busy": "2022-02-09T15:07:07.207267Z",
     "iopub.status.idle": "2022-02-09T15:07:36.377093Z",
     "shell.execute_reply": "2022-02-09T15:07:36.3758Z",
     "shell.execute_reply.started": "2022-02-09T15:07:07.207604Z"
    }
   },
   "outputs": [],
   "source": [
    "import sys\n",
    "from kaggle_environments import utils\n",
    "\n",
    "out = sys.stdout\n",
    "submission = utils.read_file(\"/kaggle/working/submission.py\")\n",
    "# agent = utils.get_last_callable(submission)\n",
    "agent = N_step_lookahead_fast\n",
    "sys.stdout = out\n",
    "\n",
    "env = make(\"connectx\", debug=True)\n",
    "env.run([agent, agent])\n",
    "print(\"Success!\" if env.state[0].status == env.state[1].status == \"DONE\" else \"Failed...\")"
   ]
  },
  {
   "cell_type": "code",
   "execution_count": null,
   "metadata": {
    "execution": {
     "iopub.execute_input": "2022-02-09T15:07:36.379073Z",
     "iopub.status.busy": "2022-02-09T15:07:36.378709Z",
     "iopub.status.idle": "2022-02-09T15:07:36.385277Z",
     "shell.execute_reply": "2022-02-09T15:07:36.38414Z",
     "shell.execute_reply.started": "2022-02-09T15:07:36.379011Z"
    }
   },
   "outputs": [],
   "source": [
    "end_time = time.time()\n",
    "print(\"Notebook run time: {:.1f} seconds. Finished at {}\".format(end_time - start_time, datetime.now()) )"
   ]
  }
 ],
 "metadata": {
  "kaggle": {
   "accelerator": "none",
   "dataSources": [
    {
     "databundleVersionId": 899221,
     "sourceId": 17592,
     "sourceType": "competition"
    }
   ],
   "dockerImageVersionId": 30157,
   "isGpuEnabled": false,
   "isInternetEnabled": true,
   "language": "python",
   "sourceType": "notebook"
  },
  "kernelspec": {
   "display_name": "Python [conda env:base] *",
   "language": "python",
   "name": "conda-base-py"
  },
  "language_info": {
   "codemirror_mode": {
    "name": "ipython",
    "version": 3
   },
   "file_extension": ".py",
   "mimetype": "text/x-python",
   "name": "python",
   "nbconvert_exporter": "python",
   "pygments_lexer": "ipython3",
   "version": "3.10.9"
  }
 },
 "nbformat": 4,
 "nbformat_minor": 4
}
