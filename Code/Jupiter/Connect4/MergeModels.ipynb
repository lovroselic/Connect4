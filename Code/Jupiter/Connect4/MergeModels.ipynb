{
 "cells": [
  {
   "cell_type": "markdown",
   "id": "6ff2fad2-0c29-4f1a-b53d-b8f4d07ae275",
   "metadata": {},
   "source": [
    "# Merging models"
   ]
  },
  {
   "cell_type": "code",
   "execution_count": 1,
   "id": "d7de5126-b3e5-4854-a721-bb728234a778",
   "metadata": {},
   "outputs": [
    {
     "name": "stdout",
     "output_type": "stream",
     "text": [
      "All dependencies imported successfully.\n",
      "torch version: 2.5.1\n",
      "CUDA available: True\n",
      "CUDA version: 11.8\n",
      "GPU name: NVIDIA GeForce RTX 4090\n"
     ]
    }
   ],
   "source": [
    "import os, sys, math, time, random, pathlib\n",
    "from typing import Dict, Tuple\n",
    "\n",
    "import numpy as np\n",
    "import torch\n",
    "import torch.nn as nn\n",
    "import torch.nn.functional as F\n",
    "from torch.utils.data import TensorDataset, DataLoader\n",
    "\n",
    "from DQN.dqn_agent import DQNAgent\n",
    "from DQN.dqn_model import DQN\n",
    "from C4.connect4_env import Connect4Env\n",
    "from C4.fast_connect4_lookahead import Connect4Lookahead\n",
    "from DQN.distill_helpers import *\n",
    "\n",
    "print(\"All dependencies imported successfully.\")\n",
    "print(\"torch version:\", torch.__version__)\n",
    "print(\"CUDA available:\", torch.cuda.is_available())\n",
    "print(\"CUDA version:\", torch.version.cuda)\n",
    "\n",
    "if torch.cuda.is_available():\n",
    "    print(\"GPU name:\", torch.cuda.get_device_name(0))\n",
    "else:\n",
    "    print(\"CUDA not available. Using CPU.\")\n",
    "\n",
    "device = torch.device(\"cuda\" if torch.cuda.is_available() else \"cpu\")"
   ]
  },
  {
   "cell_type": "code",
   "execution_count": 2,
   "id": "3f18d2d8-7e7f-4082-b31d-c998772c295f",
   "metadata": {},
   "outputs": [
    {
     "name": "stdout",
     "output_type": "stream",
     "text": [
      "2025-10-28 12-12-58\n"
     ]
    }
   ],
   "source": [
    "begin_start_time = time.time()\n",
    "time_str = time.strftime('%Y-%m-%d %H-%M-%S', time.localtime(begin_start_time))\n",
    "print(time_str)"
   ]
  },
  {
   "cell_type": "code",
   "execution_count": 3,
   "id": "edc67d8e-94b7-4b61-97d7-584031a47855",
   "metadata": {},
   "outputs": [],
   "source": [
    "SEED = 666\n",
    "random.seed(SEED)\n",
    "np.random.seed(SEED)\n",
    "torch.manual_seed(SEED)\n",
    "torch.cuda.manual_seed(SEED)\n",
    "torch.cuda.manual_seed_all(SEED)\n",
    "torch.backends.cudnn.deterministic = True\n",
    "torch.backends.cudnn.benchmark = False\n",
    "os.environ[\"PYTHONHASHSEED\"] = str(SEED)"
   ]
  },
  {
   "cell_type": "code",
   "execution_count": 4,
   "id": "936609dd-4e66-4c82-be14-73d68f7dc30d",
   "metadata": {},
   "outputs": [],
   "source": [
    "TEACHER_A_CKPT = \"DISTILLED RANDOM V DQN model.pt\"     # path to teacher A\n",
    "TEACHER_B_CKPT = \"Backup/RANDOM II DQN model.pt\"     # path to teacher A\n",
    "#TEACHER_B_CKPT = \"RANDOM XI DQN model.pt\"      # path to teacher B\n",
    "HYBRID =         \"DISTILLED RANDOM VI DQN model.pt\""
   ]
  },
  {
   "cell_type": "code",
   "execution_count": 5,
   "id": "b7dba054-8f55-406e-93f1-a5385ba22e04",
   "metadata": {},
   "outputs": [],
   "source": [
    "ALPHA = 0.50          # A weight in blended target: Q* = α QA + (1-α) QB\n",
    "Z_NORM = True         # per-state z-normalize teacher Q's before blending\n",
    "\n",
    "# State collection\n",
    "TOTAL_STATES = 150_000\n",
    "\n",
    "SPLIT = {           \n",
    "    \"Random\":       0.10,\n",
    "    \"Lookahead-1\":  0.30,\n",
    "    \"Lookahead-2\":  0.30,\n",
    "    \"Lookahead-3\":  0.30,\n",
    "}\n",
    "\n",
    "# Training\n",
    "LR = 2e-4 #1.0e-4\n",
    "BATCH_SIZE = 1024 #1024\n",
    "EPOCHS = 4\n",
    "GRAD_CLIP = 5.0\n",
    "WEIGHT_DECAY = 5e-6 #1e-5"
   ]
  },
  {
   "cell_type": "code",
   "execution_count": 6,
   "id": "e1754f89-bce1-49cb-b0d6-261761f97827",
   "metadata": {},
   "outputs": [],
   "source": [
    "teacherA = load_teacher(TEACHER_A_CKPT, device=device, epsilon=0.0, guard_prob=0.0)\n",
    "teacherB = load_teacher(TEACHER_B_CKPT, device=device, epsilon=0.0, guard_prob=0.0)"
   ]
  },
  {
   "cell_type": "code",
   "execution_count": 7,
   "id": "2463e431-aa39-426f-8fcc-da9ba79fd7bf",
   "metadata": {},
   "outputs": [],
   "source": [
    "begin_start_time = time.time()"
   ]
  },
  {
   "cell_type": "code",
   "execution_count": 8,
   "id": "74c0f1c3-c3ee-4855-99f6-fa3a2192a67f",
   "metadata": {},
   "outputs": [
    {
     "name": "stdout",
     "output_type": "stream",
     "text": [
      "[cache] loaded 150,000 states from state_cache\\states_150000_fb39ef0f14.pt\n"
     ]
    }
   ],
   "source": [
    "X_states, mask_all, meta = collect_states_cached(\n",
    "    TOTAL_STATES, SPLIT,\n",
    "    cache_path=\"./state_cache\",\n",
    "    overwrite=False,                 # set True to rebuild\n",
    "    shuffle=True,\n",
    "    max_plies_per_game=None,\n",
    "    enable_cache=True,\n",
    "    phase_split=(0.35, 0.45, 0.20),\n",
    ")"
   ]
  },
  {
   "cell_type": "code",
   "execution_count": 9,
   "id": "3d9aaba1-d8f5-4c0c-99db-7bdf9a5d5e8d",
   "metadata": {},
   "outputs": [
    {
     "data": {
      "application/vnd.jupyter.widget-view+json": {
       "model_id": "5f1b704c82a7433e9235b73e0638ebfb",
       "version_major": 2,
       "version_minor": 0
      },
      "text/plain": [
       "Epochs:   0%|          | 0/4 [00:00<?, ?it/s]"
      ]
     },
     "metadata": {},
     "output_type": "display_data"
    },
    {
     "data": {
      "application/vnd.jupyter.widget-view+json": {
       "model_id": "3d19f39df23649a9a72c8570c6e3d6c8",
       "version_major": 2,
       "version_minor": 0
      },
      "text/plain": [
       "epoch 1 / 4:   0%|          | 0/147 [00:00<?, ?it/s]"
      ]
     },
     "metadata": {},
     "output_type": "display_data"
    },
    {
     "name": "stdout",
     "output_type": "stream",
     "text": [
      "[distill] epoch 1: avg_loss=0.02939, batches=147\n"
     ]
    },
    {
     "data": {
      "application/vnd.jupyter.widget-view+json": {
       "model_id": "1b6e926521944fe79929f4fdf3a9f0bd",
       "version_major": 2,
       "version_minor": 0
      },
      "text/plain": [
       "epoch 2 / 4:   0%|          | 0/147 [00:00<?, ?it/s]"
      ]
     },
     "metadata": {},
     "output_type": "display_data"
    },
    {
     "name": "stdout",
     "output_type": "stream",
     "text": [
      "[distill] epoch 2: avg_loss=0.01413, batches=147\n"
     ]
    },
    {
     "data": {
      "application/vnd.jupyter.widget-view+json": {
       "model_id": "a1f8080cd47846e9b39bb205e4a1c9ba",
       "version_major": 2,
       "version_minor": 0
      },
      "text/plain": [
       "epoch 3 / 4:   0%|          | 0/147 [00:00<?, ?it/s]"
      ]
     },
     "metadata": {},
     "output_type": "display_data"
    },
    {
     "name": "stdout",
     "output_type": "stream",
     "text": [
      "[distill] epoch 3: avg_loss=0.01176, batches=147\n"
     ]
    },
    {
     "data": {
      "application/vnd.jupyter.widget-view+json": {
       "model_id": "a28953418bbd41e389c650f778c44a33",
       "version_major": 2,
       "version_minor": 0
      },
      "text/plain": [
       "epoch 4 / 4:   0%|          | 0/147 [00:00<?, ?it/s]"
      ]
     },
     "metadata": {},
     "output_type": "display_data"
    },
    {
     "name": "stdout",
     "output_type": "stream",
     "text": [
      "[distill] epoch 4: avg_loss=0.01058, batches=147\n",
      "[distill] training complete.\n"
     ]
    }
   ],
   "source": [
    "student = build_student(init_from=\"A\", teacherA=teacherA, teacherB=teacherB, device=device)\n",
    "distill_train(student, teacherA, teacherB, X_states, alpha=ALPHA, epochs=EPOCHS, batch_size=BATCH_SIZE, lr=LR, device=device)"
   ]
  },
  {
   "cell_type": "code",
   "execution_count": 10,
   "id": "84674e2e-f71c-4b5c-bbdf-b57b3c740f12",
   "metadata": {},
   "outputs": [
    {
     "data": {
      "application/vnd.jupyter.widget-view+json": {
       "model_id": "a5419275b2b445dfb33c11c73b2d1aed",
       "version_major": 2,
       "version_minor": 0
      },
      "text/plain": [
       "sanity batches:   0%|          | 0/10 [00:00<?, ?it/s]"
      ]
     },
     "metadata": {},
     "output_type": "display_data"
    },
    {
     "name": "stdout",
     "output_type": "stream",
     "text": [
      "[sanity] mse=0.048208 huber=0.024096 agree=0.862 illegal_pref=0.0068 (N=10000)\n",
      "[save] student weights -> DISTILLED RANDOM VI DQN model.pt\n"
     ]
    }
   ],
   "source": [
    "san = sanity_eval(student, teacherA, teacherB, X_states,    alpha=ALPHA, z_norm=True,    samples=min(10_000, X_states.shape[0]),\n",
    "    batch_size=BATCH_SIZE, device=device)\n",
    "\n",
    "save_student(student, HYBRID)"
   ]
  },
  {
   "cell_type": "code",
   "execution_count": 11,
   "id": "67291a8c-51a9-43da-a53e-857671503ca7",
   "metadata": {},
   "outputs": [
    {
     "name": "stdout",
     "output_type": "stream",
     "text": [
      "Retrain performed in 0.1 hours\n"
     ]
    }
   ],
   "source": [
    "total_end_time = time.time()\n",
    "total_elapsed = (total_end_time - begin_start_time) / 3600\n",
    "print(f\"Retrain performed in {total_elapsed:.1f} hours\")"
   ]
  }
 ],
 "metadata": {
  "kernelspec": {
   "display_name": "Python 3 (ipykernel)",
   "language": "python",
   "name": "python3"
  },
  "language_info": {
   "codemirror_mode": {
    "name": "ipython",
    "version": 3
   },
   "file_extension": ".py",
   "mimetype": "text/x-python",
   "name": "python",
   "nbconvert_exporter": "python",
   "pygments_lexer": "ipython3",
   "version": "3.10.18"
  }
 },
 "nbformat": 4,
 "nbformat_minor": 5
}
