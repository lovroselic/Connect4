{
 "cells": [
  {
   "cell_type": "code",
   "execution_count": 1,
   "id": "2d355298-fc04-442e-be2c-e7c3e91594eb",
   "metadata": {},
   "outputs": [
    {
     "name": "stdout",
     "output_type": "stream",
     "text": [
      "2025-10-28 06-45-04\n"
     ]
    }
   ],
   "source": [
    "import time\n",
    "begin_start_time = time.time()\n",
    "time_str = time.strftime('%Y-%m-%d %H-%M-%S', time.localtime(begin_start_time))\n",
    "print(time_str)"
   ]
  },
  {
   "cell_type": "code",
   "execution_count": 2,
   "id": "1202854f-f549-42c5-acca-c4fb08c9d390",
   "metadata": {},
   "outputs": [],
   "source": [
    "import torch, pandas as pd, os\n",
    "device = torch.device(\"cuda\" if torch.cuda.is_available() else \"cpu\")"
   ]
  },
  {
   "cell_type": "code",
   "execution_count": 3,
   "id": "8c052af2-d132-43e9-8870-cd5b1a1177f5",
   "metadata": {},
   "outputs": [],
   "source": [
    "from DQN.agent_eval import head_to_head, plot_winrate_bar\n",
    "from pprint import pprint\n",
    "import matplotlib.pyplot as plt\n",
    "from DQN.h2h_to_excel import append_h2h_to_excel"
   ]
  },
  {
   "cell_type": "code",
   "execution_count": null,
   "id": "4d86b13c-b366-4522-b929-cb0b74150046",
   "metadata": {},
   "outputs": [
    {
     "data": {
      "application/vnd.jupyter.widget-view+json": {
       "model_id": "dcaa6adfc24845eab44184ade89adb2c",
       "version_major": 2,
       "version_minor": 0
      },
      "text/plain": [
       "RANDOM I DQN model.pt vs RANDOM IV DQN model.pt:   0%|          | 0/5000 [00:00<?, ?it/s]"
      ]
     },
     "metadata": {},
     "output_type": "display_data"
    }
   ],
   "source": [
    "### classic \n",
    "#A = \"Connect4 DQN model.pt\"\n",
    "B = \"RANDOM IV DQN model.pt\"\n",
    "\n",
    "### interims\n",
    "\n",
    "#A = \"phase-L1_Intro Interim Connect4 DQN model.pt\"\n",
    "#A = \"phase-L1_Tickle Interim Connect4 DQN model.pt\"\n",
    "\n",
    "#### special\n",
    "A = \"Backup/RANDOM I DQN model.pt\"\n",
    "#A = \"Backup/RANDOM II DQN model.pt\"\n",
    "\n",
    "\n",
    "\n",
    "####\n",
    "GAMES = 5000\n",
    "res = head_to_head(A, B, n_games=GAMES, device=device, epsilon=0.0, guard_prob=0.0,  opening_noise_k=1, seed=666,progress=True)"
   ]
  },
  {
   "cell_type": "code",
   "execution_count": null,
   "id": "15723d93-b6bd-4963-aaa2-e73632eaf436",
   "metadata": {},
   "outputs": [],
   "source": [
    "pprint(res)\n",
    "print(f\"\\nA score = {res['A_score_rate']:.3f}  (95% CI {res['A_score_CI95'][0]:.3f}–{res['A_score_CI95'][1]:.3f})\")"
   ]
  },
  {
   "cell_type": "code",
   "execution_count": null,
   "id": "779afa93-c721-461f-a04f-421411cda086",
   "metadata": {},
   "outputs": [],
   "source": [
    "plot_winrate_bar(res)"
   ]
  },
  {
   "cell_type": "code",
   "execution_count": null,
   "id": "c4b68722-7d2d-468b-9d1d-00ec257a043f",
   "metadata": {},
   "outputs": [],
   "source": [
    "append_h2h_to_excel(res)"
   ]
  },
  {
   "cell_type": "code",
   "execution_count": null,
   "id": "367da0b5-a356-4334-a74a-10b79be1c528",
   "metadata": {},
   "outputs": [],
   "source": [
    "end_time = time.time()\n",
    "total_elapsed = (end_time - begin_start_time) / 60\n",
    "print(f\"Evaluation completed in {total_elapsed:.1f} minutes\")"
   ]
  }
 ],
 "metadata": {
  "kernelspec": {
   "display_name": "Python 3 (ipykernel)",
   "language": "python",
   "name": "python3"
  },
  "language_info": {
   "codemirror_mode": {
    "name": "ipython",
    "version": 3
   },
   "file_extension": ".py",
   "mimetype": "text/x-python",
   "name": "python",
   "nbconvert_exporter": "python",
   "pygments_lexer": "ipython3",
   "version": "3.10.18"
  }
 },
 "nbformat": 4,
 "nbformat_minor": 5
}
