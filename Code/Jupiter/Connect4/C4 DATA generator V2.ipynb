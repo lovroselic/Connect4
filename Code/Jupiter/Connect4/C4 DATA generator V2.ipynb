{
 "cells": [
  {
   "cell_type": "markdown",
   "id": "c25e1295-6e59-4d89-a04d-00bcf5d4eabf",
   "metadata": {},
   "source": [
    "# Connect-4 data generator V3"
   ]
  },
  {
   "cell_type": "code",
   "execution_count": 1,
   "id": "1b71e23d-2ec8-4ccf-8b3d-f0e0304e68c6",
   "metadata": {},
   "outputs": [
    {
     "name": "stdout",
     "output_type": "stream",
     "text": [
      "All dependencies imported successfully.\n"
     ]
    }
   ],
   "source": [
    "import numpy as np\n",
    "import random\n",
    "from tqdm.auto import tqdm\n",
    "import time\n",
    "import pandas as pd\n",
    "from C4.c4_move_data_generator import *\n",
    "\n",
    "print(\"All dependencies imported successfully.\")"
   ]
  },
  {
   "cell_type": "code",
   "execution_count": 2,
   "id": "da6ef63d-c85d-4957-ba83-ff146cd1233d",
   "metadata": {},
   "outputs": [],
   "source": [
    "PLAYS = {\n",
    "    # \"L1\":   {\"A\": 1, \"B\": 1, \"games\": 22},\n",
    "\n",
    "    # \"L2\":   {\"A\": 2, \"B\": 2, \"games\": 22},\n",
    "    # \"L2L1\": {\"A\": 2, \"B\": 1, \"games\": 22},\n",
    "    # \"L1L2\": {\"A\": 1, \"B\": 2, \"games\": 22},\n",
    "\n",
    "    # \"L3\":   {\"A\": 3, \"B\": 3, \"games\": 22},\n",
    "    #\"L3L1\": {\"A\": 3, \"B\": 1, \"games\": 22},\n",
    "    # \"L3L2\": {\"A\": 3, \"B\": 2, \"games\": 22},\n",
    "    #\"L1L3\": {\"A\": 1, \"B\": 3, \"games\": 22},\n",
    "    # \"L2L3\": {\"A\": 2, \"B\": 3, \"games\": 22},\n",
    "\n",
    "    # \"L4\":   {\"A\": 4, \"B\": 4, \"games\": 10},\n",
    "    # \"L4L1\": {\"A\": 4, \"B\": 1, \"games\": 10},\n",
    "    # \"L4L2\": {\"A\": 4, \"B\": 2, \"games\": 10},\n",
    "    # \"L4L3\": {\"A\": 4, \"B\": 3, \"games\": 10},\n",
    "    # \"L1L4\": {\"A\": 1, \"B\": 4, \"games\": 10},\n",
    "    # \"L2L4\": {\"A\": 2, \"B\": 4, \"games\": 10},\n",
    "    # \"L3L4\": {\"A\": 3, \"B\": 4, \"games\": 10},\n",
    "\n",
    "    # \"L5\":   {\"A\": 5, \"B\": 5, \"games\": 20},\n",
    "    # \"L5L1\": {\"A\": 5, \"B\": 1, \"games\": 10},\n",
    "    # \"L5L2\": {\"A\": 5, \"B\": 2, \"games\": 10},\n",
    "    # \"L5L3\": {\"A\": 5, \"B\": 3, \"games\": 10},\n",
    "    # \"L5L4\": {\"A\": 5, \"B\": 4, \"games\": 10},\n",
    "    # \"L1L5\": {\"A\": 1, \"B\": 5, \"games\": 10},\n",
    "    # \"L2L5\": {\"A\": 2, \"B\": 5, \"games\": 10},\n",
    "    # \"L3L5\": {\"A\": 3, \"B\": 5, \"games\": 10},\n",
    "    # \"L4L5\": {\"A\": 4, \"B\": 5, \"games\": 10},\n",
    "\n",
    "    # \"L6\":   {\"A\": 6, \"B\": 6, \"games\": 20},\n",
    "    # \"L6L1\": {\"A\": 6, \"B\": 1, \"games\": 10},\n",
    "    # \"L6L2\": {\"A\": 6, \"B\": 2, \"games\": 10},\n",
    "    # \"L6L3\": {\"A\": 6, \"B\": 3, \"games\": 10},\n",
    "    # \"L6L4\": {\"A\": 6, \"B\": 4, \"games\": 10},\n",
    "    # \"L6L5\": {\"A\": 6, \"B\": 5, \"games\": 10},\n",
    "    # \"L1L6\": {\"A\": 1, \"B\": 6, \"games\": 10},\n",
    "    # \"L2L6\": {\"A\": 2, \"B\": 6, \"games\": 10},\n",
    "    # \"L3L6\": {\"A\": 3, \"B\": 6, \"games\": 10},\n",
    "    # \"L4L6\": {\"A\": 4, \"B\": 6, \"games\": 10},\n",
    "    # \"L5L6\": {\"A\": 5, \"B\": 6, \"games\": 10},\n",
    "\n",
    "    \"L7\":   {\"A\": 7, \"B\": 7, \"games\": 10},\n",
    "    \"L7L1\": {\"A\": 7, \"B\": 1, \"games\": 10},   \n",
    "    \"L7L2\": {\"A\": 7, \"B\": 2, \"games\": 10}, \n",
    "    \"L7L3\": {\"A\": 7, \"B\": 3, \"games\": 10}, \n",
    "    \"L7L4\": {\"A\": 7, \"B\": 4, \"games\": 10}, \n",
    "     \"L7L5\": {\"A\": 7, \"B\": 5, \"games\": 10}, \n",
    "    \"L7L6\": {\"A\": 7, \"B\": 6, \"games\": 10}, \n",
    "    \"L1L7\": {\"A\": 1, \"B\": 7, \"games\": 10},  \n",
    "    \"L2L7\": {\"A\": 2, \"B\": 7, \"games\": 10}, \n",
    "    \"L3L7\": {\"A\": 3, \"B\": 7, \"games\": 10}, \n",
    "    \"L4L7\": {\"A\": 4, \"B\": 7, \"games\": 10}, \n",
    "    \"L5L7\": {\"A\": 5, \"B\": 7, \"games\": 10}, \n",
    "    \"L6L7\": {\"A\": 6, \"B\": 7, \"games\": 10}, \n",
    "}\n"
   ]
  },
  {
   "cell_type": "code",
   "execution_count": 3,
   "id": "448248d8-2580-468b-a0dd-a9042c6c38a2",
   "metadata": {},
   "outputs": [],
   "source": [
    "DATA_FILE = \"DATA/C4.play_data.xlsx\""
   ]
  },
  {
   "cell_type": "code",
   "execution_count": 4,
   "id": "ac7a9dbd-1f57-416d-8cd4-2a1ebbee9196",
   "metadata": {},
   "outputs": [
    {
     "data": {
      "application/vnd.jupyter.widget-view+json": {
       "model_id": "8149d2adfc204055a93d7fbb7e1505f1",
       "version_major": 2,
       "version_minor": 0
      },
      "text/plain": [
       "  0%|          | 0/13 [00:00<?, ?it/s]"
      ]
     },
     "metadata": {},
     "output_type": "display_data"
    },
    {
     "name": "stdout",
     "output_type": "stream",
     "text": [
      "Saved 19470 unique rows\n"
     ]
    }
   ],
   "source": [
    "from tqdm.auto import tqdm\n",
    "import pandas as pd\n",
    "\n",
    "records = []\n",
    "for label, cfg in tqdm(PLAYS.items()):\n",
    "    records.extend(generate_dataset({label: cfg}, seed=666))\n",
    "\n",
    "df_new   = records_to_dataframe(records)   # columns: label, reward, game, ply, 0-0..5-6\n",
    "df_saved = upsert_excel(df_new, DATA_FILE)\n",
    "print(\"Saved\", len(df_saved), \"unique rows\")"
   ]
  },
  {
   "cell_type": "code",
   "execution_count": 5,
   "id": "a741c93c-11ae-4220-93d7-59eefe2b0a4a",
   "metadata": {},
   "outputs": [
    {
     "data": {
      "text/html": [
       "<div>\n",
       "<style scoped>\n",
       "    .dataframe tbody tr th:only-of-type {\n",
       "        vertical-align: middle;\n",
       "    }\n",
       "\n",
       "    .dataframe tbody tr th {\n",
       "        vertical-align: top;\n",
       "    }\n",
       "\n",
       "    .dataframe thead th {\n",
       "        text-align: right;\n",
       "    }\n",
       "</style>\n",
       "<table border=\"1\" class=\"dataframe\">\n",
       "  <thead>\n",
       "    <tr style=\"text-align: right;\">\n",
       "      <th></th>\n",
       "      <th>reward</th>\n",
       "    </tr>\n",
       "  </thead>\n",
       "  <tbody>\n",
       "    <tr>\n",
       "      <th>count</th>\n",
       "      <td>3782.000000</td>\n",
       "    </tr>\n",
       "    <tr>\n",
       "      <th>mean</th>\n",
       "      <td>53.405691</td>\n",
       "    </tr>\n",
       "    <tr>\n",
       "      <th>std</th>\n",
       "      <td>29.379422</td>\n",
       "    </tr>\n",
       "    <tr>\n",
       "      <th>min</th>\n",
       "      <td>-71.000000</td>\n",
       "    </tr>\n",
       "    <tr>\n",
       "      <th>25%</th>\n",
       "      <td>29.500000</td>\n",
       "    </tr>\n",
       "    <tr>\n",
       "      <th>50%</th>\n",
       "      <td>61.500000</td>\n",
       "    </tr>\n",
       "    <tr>\n",
       "      <th>75%</th>\n",
       "      <td>79.000000</td>\n",
       "    </tr>\n",
       "    <tr>\n",
       "      <th>max</th>\n",
       "      <td>100.000000</td>\n",
       "    </tr>\n",
       "  </tbody>\n",
       "</table>\n",
       "</div>"
      ],
      "text/plain": [
       "            reward\n",
       "count  3782.000000\n",
       "mean     53.405691\n",
       "std      29.379422\n",
       "min     -71.000000\n",
       "25%      29.500000\n",
       "50%      61.500000\n",
       "75%      79.000000\n",
       "max     100.000000"
      ]
     },
     "execution_count": 5,
     "metadata": {},
     "output_type": "execute_result"
    }
   ],
   "source": [
    "df_new[[\"reward\"]].describe()"
   ]
  },
  {
   "cell_type": "code",
   "execution_count": 6,
   "id": "e8c2a666-5283-4503-96a6-13873bf63fb2",
   "metadata": {},
   "outputs": [
    {
     "data": {
      "text/html": [
       "<div>\n",
       "<style scoped>\n",
       "    .dataframe tbody tr th:only-of-type {\n",
       "        vertical-align: middle;\n",
       "    }\n",
       "\n",
       "    .dataframe tbody tr th {\n",
       "        vertical-align: top;\n",
       "    }\n",
       "\n",
       "    .dataframe thead th {\n",
       "        text-align: right;\n",
       "    }\n",
       "</style>\n",
       "<table border=\"1\" class=\"dataframe\">\n",
       "  <thead>\n",
       "    <tr style=\"text-align: right;\">\n",
       "      <th></th>\n",
       "      <th>reward</th>\n",
       "    </tr>\n",
       "  </thead>\n",
       "  <tbody>\n",
       "    <tr>\n",
       "      <th>count</th>\n",
       "      <td>19470.000000</td>\n",
       "    </tr>\n",
       "    <tr>\n",
       "      <th>mean</th>\n",
       "      <td>53.081466</td>\n",
       "    </tr>\n",
       "    <tr>\n",
       "      <th>std</th>\n",
       "      <td>29.400917</td>\n",
       "    </tr>\n",
       "    <tr>\n",
       "      <th>min</th>\n",
       "      <td>-79.000000</td>\n",
       "    </tr>\n",
       "    <tr>\n",
       "      <th>25%</th>\n",
       "      <td>29.500000</td>\n",
       "    </tr>\n",
       "    <tr>\n",
       "      <th>50%</th>\n",
       "      <td>61.250000</td>\n",
       "    </tr>\n",
       "    <tr>\n",
       "      <th>75%</th>\n",
       "      <td>79.000000</td>\n",
       "    </tr>\n",
       "    <tr>\n",
       "      <th>max</th>\n",
       "      <td>100.000000</td>\n",
       "    </tr>\n",
       "  </tbody>\n",
       "</table>\n",
       "</div>"
      ],
      "text/plain": [
       "             reward\n",
       "count  19470.000000\n",
       "mean      53.081466\n",
       "std       29.400917\n",
       "min      -79.000000\n",
       "25%       29.500000\n",
       "50%       61.250000\n",
       "75%       79.000000\n",
       "max      100.000000"
      ]
     },
     "execution_count": 6,
     "metadata": {},
     "output_type": "execute_result"
    }
   ],
   "source": [
    "df_saved[[\"reward\"]].describe()"
   ]
  }
 ],
 "metadata": {
  "kernelspec": {
   "display_name": "Python 3 (ipykernel)",
   "language": "python",
   "name": "python3"
  },
  "language_info": {
   "codemirror_mode": {
    "name": "ipython",
    "version": 3
   },
   "file_extension": ".py",
   "mimetype": "text/x-python",
   "name": "python",
   "nbconvert_exporter": "python",
   "pygments_lexer": "ipython3",
   "version": "3.10.18"
  }
 },
 "nbformat": 4,
 "nbformat_minor": 5
}
