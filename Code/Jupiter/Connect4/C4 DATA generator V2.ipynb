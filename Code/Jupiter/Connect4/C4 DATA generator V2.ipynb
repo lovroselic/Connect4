{
 "cells": [
  {
   "cell_type": "markdown",
   "id": "c25e1295-6e59-4d89-a04d-00bcf5d4eabf",
   "metadata": {},
   "source": [
    "# Connect-4 data generator V3"
   ]
  },
  {
   "cell_type": "code",
   "execution_count": 1,
   "id": "1b71e23d-2ec8-4ccf-8b3d-f0e0304e68c6",
   "metadata": {},
   "outputs": [
    {
     "name": "stdout",
     "output_type": "stream",
     "text": [
      "All dependencies imported successfully.\n"
     ]
    }
   ],
   "source": [
    "import numpy as np\n",
    "import random\n",
    "from tqdm import tqdm\n",
    "import time\n",
    "import pandas as pd\n",
    "from C4.c4_move_data_generator import *\n",
    "\n",
    "print(\"All dependencies imported successfully.\")"
   ]
  },
  {
   "cell_type": "code",
   "execution_count": 2,
   "id": "da6ef63d-c85d-4957-ba83-ff146cd1233d",
   "metadata": {},
   "outputs": [],
   "source": [
    "PLAYS = {\n",
    "    # \"L1\":   {\"A\": 1, \"B\": 1, \"games\": 12},\n",
    "\n",
    "    # \"L2\":   {\"A\": 2, \"B\": 2, \"games\": 12},\n",
    "    # \"L2L1\": {\"A\": 2, \"B\": 1, \"games\": 12},\n",
    "    # \"L1L2\": {\"A\": 1, \"B\": 2, \"games\": 12},\n",
    "\n",
    "    # \"L3\":   {\"A\": 3, \"B\": 3, \"games\": 12},\n",
    "    # \"L3L1\": {\"A\": 3, \"B\": 1, \"games\": 12},\n",
    "    # \"L3L2\": {\"A\": 3, \"B\": 2, \"games\": 12},\n",
    "    # \"L1L3\": {\"A\": 1, \"B\": 3, \"games\": 12},\n",
    "    # \"L2L3\": {\"A\": 2, \"B\": 3, \"games\": 12},\n",
    "\n",
    "    # \"L4\":   {\"A\": 4, \"B\": 4, \"games\": 2},\n",
    "    # \"L4L1\": {\"A\": 4, \"B\": 1, \"games\": 1},\n",
    "    # \"L4L2\": {\"A\": 4, \"B\": 2, \"games\": 1},\n",
    "    # \"L4L3\": {\"A\": 4, \"B\": 3, \"games\": 1},\n",
    "    # \"L1L4\": {\"A\": 1, \"B\": 4, \"games\": 1},\n",
    "    # \"L2L4\": {\"A\": 2, \"B\": 4, \"games\": 1},\n",
    "    # \"L3L4\": {\"A\": 3, \"B\": 4, \"games\": 1},\n",
    "\n",
    "    # \"L5\":   {\"A\": 5, \"B\": 5, \"games\": 2},\n",
    "    # \"L5L1\": {\"A\": 5, \"B\": 1, \"games\": 1},\n",
    "    # \"L5L2\": {\"A\": 5, \"B\": 2, \"games\": 1},\n",
    "    # \"L5L3\": {\"A\": 5, \"B\": 3, \"games\": 1},\n",
    "    # \"L5L4\": {\"A\": 5, \"B\": 4, \"games\": 1},\n",
    "    # \"L1L5\": {\"A\": 1, \"B\": 5, \"games\": 1},\n",
    "    # \"L2L5\": {\"A\": 2, \"B\": 5, \"games\": 1},\n",
    "    # \"L3L5\": {\"A\": 3, \"B\": 5, \"games\": 1},\n",
    "    # \"L4L5\": {\"A\": 4, \"B\": 5, \"games\": 1},\n",
    "\n",
    "    # \"L6\":   {\"A\": 6, \"B\": 6, \"games\": 2},\n",
    "    # \"L6L1\": {\"A\": 6, \"B\": 1, \"games\": 1},\n",
    "    # \"L6L2\": {\"A\": 6, \"B\": 2, \"games\": 1},\n",
    "    # \"L6L3\": {\"A\": 6, \"B\": 3, \"games\": 1},\n",
    "    # \"L6L4\": {\"A\": 6, \"B\": 4, \"games\": 1},\n",
    "    # \"L6L5\": {\"A\": 6, \"B\": 5, \"games\": 1},\n",
    "    # \"L1L6\": {\"A\": 1, \"B\": 6, \"games\": 1},\n",
    "    # \"L2L6\": {\"A\": 2, \"B\": 6, \"games\": 1},\n",
    "    # \"L3L6\": {\"A\": 3, \"B\": 6, \"games\": 1},\n",
    "    # \"L4L6\": {\"A\": 4, \"B\": 6, \"games\": 1},\n",
    "    # \"L5L6\": {\"A\": 5, \"B\": 6, \"games\": 1},\n",
    "\n",
    "    \"L7\":   {\"A\": 7, \"B\": 7, \"games\": 1},\n",
    "    # \"L7L1\": {\"A\": 7, \"B\": 1, \"games\": 1},   # \n",
    "    # \"L7L2\": {\"A\": 7, \"B\": 2, \"games\": 1}, #\n",
    "    # \"L7L3\": {\"A\": 7, \"B\": 3, \"games\": 1}, #\n",
    "    #\"L7L4\": {\"A\": 7, \"B\": 4, \"games\": 1}, #\n",
    "     # \"L7L5\": {\"A\": 7, \"B\": 5, \"games\": 1}, #\n",
    "    # \"L7L6\": {\"A\": 7, \"B\": 6, \"games\": 1}, #\n",
    "    # \"L1L7\": {\"A\": 1, \"B\": 7, \"games\": 1},  #\n",
    "    # \"L2L7\": {\"A\": 2, \"B\": 7, \"games\": 1}, #\n",
    "    # \"L3L7\": {\"A\": 3, \"B\": 7, \"games\": 1}, #\n",
    "    #\"L4L7\": {\"A\": 4, \"B\": 7, \"games\": 1}, #\n",
    "    # \"L5L7\": {\"A\": 5, \"B\": 7, \"games\": 1}, #\n",
    "    # \"L6L7\": {\"A\": 6, \"B\": 7, \"games\": 1}, #\n",
    "}\n"
   ]
  },
  {
   "cell_type": "code",
   "execution_count": 3,
   "id": "448248d8-2580-468b-a0dd-a9042c6c38a2",
   "metadata": {},
   "outputs": [],
   "source": [
    "DATA_FILE = \"C4.play_data.xlsx\""
   ]
  },
  {
   "cell_type": "code",
   "execution_count": 4,
   "id": "ac7a9dbd-1f57-416d-8cd4-2a1ebbee9196",
   "metadata": {},
   "outputs": [
    {
     "name": "stderr",
     "output_type": "stream",
     "text": [
      "100%|██████████| 1/1 [56:29<00:00, 3389.99s/it]\n"
     ]
    },
    {
     "name": "stdout",
     "output_type": "stream",
     "text": [
      "Saved 4731 unique rows\n"
     ]
    }
   ],
   "source": [
    "from tqdm import tqdm\n",
    "import pandas as pd\n",
    "\n",
    "records = []\n",
    "for label, cfg in tqdm(PLAYS.items()):\n",
    "    records.extend(generate_dataset({label: cfg}, seed=666))\n",
    "\n",
    "df_new   = records_to_dataframe(records)   # columns: label, reward, game, ply, 0-0..5-6\n",
    "df_saved = upsert_excel(df_new, DATA_FILE)\n",
    "print(\"Saved\", len(df_saved), \"unique rows\")"
   ]
  }
 ],
 "metadata": {
  "kernelspec": {
   "display_name": "Python 3 (ipykernel)",
   "language": "python",
   "name": "python3"
  },
  "language_info": {
   "codemirror_mode": {
    "name": "ipython",
    "version": 3
   },
   "file_extension": ".py",
   "mimetype": "text/x-python",
   "name": "python",
   "nbconvert_exporter": "python",
   "pygments_lexer": "ipython3",
   "version": "3.10.18"
  }
 },
 "nbformat": 4,
 "nbformat_minor": 5
}
