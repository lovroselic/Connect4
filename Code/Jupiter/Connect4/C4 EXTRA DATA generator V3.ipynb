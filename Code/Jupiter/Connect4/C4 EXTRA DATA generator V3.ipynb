{
 "cells": [
  {
   "cell_type": "markdown",
   "id": "c25e1295-6e59-4d89-a04d-00bcf5d4eabf",
   "metadata": {},
   "source": [
    "# Connect-4 data EXTRA generator V3"
   ]
  },
  {
   "cell_type": "code",
   "execution_count": 1,
   "id": "1b71e23d-2ec8-4ccf-8b3d-f0e0304e68c6",
   "metadata": {},
   "outputs": [
    {
     "name": "stdout",
     "output_type": "stream",
     "text": [
      "All dependencies imported successfully.\n"
     ]
    }
   ],
   "source": [
    "import numpy as np\n",
    "import random\n",
    "from tqdm import tqdm\n",
    "import pandas as pd\n",
    "from C4.c4_move_data_generator import *\n",
    "from C4.seed_generators_extra import generate_lx_vs_random_batch, synth_violation_pairs\n",
    "\n",
    "print(\"All dependencies imported successfully.\")"
   ]
  },
  {
   "cell_type": "code",
   "execution_count": 2,
   "id": "448248d8-2580-468b-a0dd-a9042c6c38a2",
   "metadata": {},
   "outputs": [],
   "source": [
    "DATA_FILE = \"DATA/C4.play_data.xlsx\""
   ]
  },
  {
   "cell_type": "code",
   "execution_count": null,
   "id": "ac7a9dbd-1f57-416d-8cd4-2a1ebbee9196",
   "metadata": {},
   "outputs": [
    {
     "name": "stderr",
     "output_type": "stream",
     "text": [
      "Depths:   0%|          | 0/2 [00:00<?, ?it/s]\n",
      "L6 vs RND (+1 starts):   0%|          | 0/3 [00:00<?, ?it/s]\u001b[A\n",
      "\n",
      "RND vs L6 (+1 random):   0%|          | 0/3 [00:00<?, ?it/s]\u001b[A\u001b[A"
     ]
    }
   ],
   "source": [
    "rows = []\n",
    "rows += generate_lx_vs_random_batch(depths=([6,7]), games_per_side=3, seed=666, label_prefix=\"\")\n",
    "rows += synth_violation_pairs(label_base=\"SYNTH_L1\", n_pairs=2, rng_seed=666)\n",
    "df_new   = records_to_dataframe(rows)\n",
    "df_new.head()"
   ]
  },
  {
   "cell_type": "code",
   "execution_count": null,
   "id": "4026e712-19d4-4446-9f6f-909ed5a598ca",
   "metadata": {},
   "outputs": [],
   "source": [
    "print(len(df_new), \"new records\")"
   ]
  },
  {
   "cell_type": "code",
   "execution_count": null,
   "id": "974d7aaf-8684-4ae2-bf5f-5d99f28d1a22",
   "metadata": {},
   "outputs": [],
   "source": [
    "df_new[[\"reward\"]].describe()"
   ]
  },
  {
   "cell_type": "code",
   "execution_count": null,
   "id": "55b0c28d-b1a9-415a-819a-f83081cc2547",
   "metadata": {},
   "outputs": [],
   "source": [
    "df_saved = upsert_excel(df_new, DATA_FILE)\n",
    "df_saved[[\"reward\"]].describe()"
   ]
  },
  {
   "cell_type": "code",
   "execution_count": null,
   "id": "2679c8e4-01df-4f5d-8723-6ec6931fd4e3",
   "metadata": {},
   "outputs": [],
   "source": [
    "print(\"Saved\", len(df_saved), \"unique rows\")"
   ]
  }
 ],
 "metadata": {
  "kernelspec": {
   "display_name": "Python 3 (ipykernel)",
   "language": "python",
   "name": "python3"
  },
  "language_info": {
   "codemirror_mode": {
    "name": "ipython",
    "version": 3
   },
   "file_extension": ".py",
   "mimetype": "text/x-python",
   "name": "python",
   "nbconvert_exporter": "python",
   "pygments_lexer": "ipython3",
   "version": "3.10.18"
  }
 },
 "nbformat": 4,
 "nbformat_minor": 5
}
