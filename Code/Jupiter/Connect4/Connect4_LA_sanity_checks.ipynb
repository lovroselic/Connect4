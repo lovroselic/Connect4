{
 "cells": [
  {
   "cell_type": "markdown",
   "id": "ae575116",
   "metadata": {},
   "source": [
    "# Connect4 Lookahead — Sanity Checks\n",
    "\n",
    "This notebook runs quick, reproducible head‑to‑head matches to verify that **Lookahead** behaves as expected:\n",
    "- Random vs L1 (L1 should dominate);\n",
    "- L1 vs L2 (L2 should do better);\n",
    "- L2 vs L3 (L3 should do better).\n",
    "\n",
    "You can also choose any two players (Random or fixed depth) and play *N* games."
   ]
  },
  {
   "cell_type": "code",
   "execution_count": 1,
   "id": "a90a7362",
   "metadata": {},
   "outputs": [
    {
     "name": "stdout",
     "output_type": "stream",
     "text": [
      "Imports ready. Connect4Env: <class 'C4.connect4_env.Connect4Env'> | Connect4Lookahead: <class 'C4.fast_connect4_lookahead.Connect4Lookahead'>\n"
     ]
    }
   ],
   "source": [
    "import os, sys, types, importlib.util, random, math\n",
    "import numpy as np\n",
    "import matplotlib.pyplot as plt\n",
    "\n",
    "# --- Attempt normal project imports first ---\n",
    "try:\n",
    "    from C4.connect4_env import Connect4Env\n",
    "    from C4.fast_connect4_lookahead import Connect4Lookahead\n",
    "    PROJECT_IMPORTS_OK = True\n",
    "except Exception as e:\n",
    "    print(\"[info] Project-style imports failed, enabling local fallbacks:\", e)\n",
    "    PROJECT_IMPORTS_OK = False\n",
    "\n",
    "    # Create a dummy 'C4' package in sys.modules\n",
    "    if 'C4' not in sys.modules:\n",
    "        C4 = types.ModuleType(\"C4\")\n",
    "        C4.__path__ = []\n",
    "        sys.modules['C4'] = C4\n",
    "\n",
    "    def _load_module_at(name, path):\n",
    "        spec = importlib.util.spec_from_file_location(name, path)\n",
    "        mod = importlib.util.module_from_spec(spec)\n",
    "        sys.modules[name] = mod\n",
    "        spec.loader.exec_module(mod)\n",
    "        return mod\n",
    "\n",
    "    # Try to locate files in current working dir or /mnt/data\n",
    "    search_paths = [os.getcwd(), \"/mnt/data\"]\n",
    "    def _find(fname):\n",
    "        for p in search_paths:\n",
    "            cand = os.path.join(p, fname)\n",
    "            if os.path.exists(cand):\n",
    "                return cand\n",
    "        raise FileNotFoundError(fname)\n",
    "\n",
    "    # Load fast_connect4_lookahead.py and register as C4.fast_connect4_lookahead\n",
    "    fast_path = _find(\"fast_connect4_lookahead.py\")\n",
    "    _load_module_at(\"C4.fast_connect4_lookahead\", fast_path)\n",
    "    from C4.fast_connect4_lookahead import Connect4Lookahead\n",
    "\n",
    "    # Load connect4_env.py as C4.connect4_env (it imports C4.fast_connect4_lookahead)\n",
    "    env_path = _find(\"connect4_env.py\")\n",
    "    _load_module_at(\"C4.connect4_env\", env_path)\n",
    "    from C4.connect4_env import Connect4Env\n",
    "\n",
    "print(\"Imports ready. Connect4Env:\", Connect4Env, \"| Connect4Lookahead:\", Connect4Lookahead)"
   ]
  },
  {
   "cell_type": "code",
   "execution_count": 2,
   "id": "4e6ae471",
   "metadata": {},
   "outputs": [],
   "source": [
    "from dataclasses import dataclass\n",
    "\n",
    "@dataclass(frozen=True)\n",
    "class PlayerSpec:\n",
    "    kind: str   # \"Random\" or \"Lk\" where k is int (e.g., \"L1\", \"L2\", \"L3\")\n",
    "    depth: int  # 0 for Random, else fixed lookahead depth\n",
    "\n",
    "def parse_player(spec: str) -> PlayerSpec:\n",
    "    s = spec.strip().lower()\n",
    "    if s in (\"random\", \"r\", \"rand\"):\n",
    "        return PlayerSpec(kind=\"Random\", depth=0)\n",
    "    if s.startswith(\"lookahead-\"):\n",
    "        k = int(s.split(\"-\")[1])\n",
    "        return PlayerSpec(kind=f\"L{k}\", depth=k)\n",
    "    if s.startswith(\"l\") and s[1:].isdigit():\n",
    "        k = int(s[1:])\n",
    "        return PlayerSpec(kind=f\"L{k}\", depth=k)\n",
    "    raise ValueError(f\"Unrecognized player spec: {spec!r}\")\n",
    "\n",
    "class RandomPolicy:\n",
    "    def __call__(self, env):\n",
    "        return random.choice(env.available_actions())\n",
    "\n",
    "class LookaheadPolicy:\n",
    "    def __init__(self, depth:int):\n",
    "        self.depth = int(depth)\n",
    "        self.LA = Connect4Lookahead()\n",
    "\n",
    "    def __call__(self, env):\n",
    "        board = env.board   # top-based {+1,0,-1}\n",
    "        a = self.LA.n_step_lookahead(board, player=env.current_player, depth=self.depth)\n",
    "        if a not in env.available_actions():\n",
    "            # extremely rare fallback\n",
    "            a = random.choice(env.available_actions())\n",
    "        return a\n",
    "\n",
    "def make_policy(player_spec: PlayerSpec):\n",
    "    if player_spec.kind == \"Random\":\n",
    "        return RandomPolicy()\n",
    "    else:\n",
    "        return LookaheadPolicy(player_spec.depth)\n",
    "\n",
    "def short_name(ps: PlayerSpec) -> str:\n",
    "    return ps.kind if ps.kind == \"Random\" else f\"L{ps.depth}\""
   ]
  },
  {
   "cell_type": "code",
   "execution_count": 3,
   "id": "8e7bb1e6",
   "metadata": {},
   "outputs": [],
   "source": [
    "def play_single_game(A_policy, B_policy, A_color=+1, seed=None):\n",
    "    '''\n",
    "    Returns A's score: 1 for A win, 0.5 draw, 0 for A loss.\n",
    "    Alternates who starts by setting env.current_player before the first move.\n",
    "    '''\n",
    "    if seed is not None:\n",
    "        random.seed(seed); np.random.seed(seed)\n",
    "\n",
    "    env = Connect4Env()\n",
    "    env.reset()\n",
    "    env.current_player = A_color  # +1 → A starts, -1 → B starts\n",
    "\n",
    "    done = False\n",
    "    while not done:\n",
    "        if env.current_player == +1:  # A to move (if colors as set)\n",
    "            a = A_policy(env)\n",
    "        else:\n",
    "            a = B_policy(env)\n",
    "        _, _, done = env.step(a)\n",
    "\n",
    "    if env.winner == +1:\n",
    "        return 1.0\n",
    "    if env.winner == -1:\n",
    "        return 0.0\n",
    "    return 0.5\n",
    "\n",
    "def run_series(A_spec: str, B_spec: str, n_games: int = 200, seed: int = 123):\n",
    "    '''\n",
    "    Play n_games; alternate who starts to offset first-move advantage.\n",
    "    Returns dict with counts and score rate for A.\n",
    "    '''\n",
    "    Aps = parse_player(A_spec)\n",
    "    Bps = parse_player(B_spec)\n",
    "    A_pol = make_policy(Aps)\n",
    "    B_pol = make_policy(Bps)\n",
    "\n",
    "    rng = random.Random(seed)\n",
    "    colors = ([+1, -1] * ((n_games + 1)//2))[:n_games]\n",
    "\n",
    "    wins = draws = losses = 0\n",
    "    timeline = []\n",
    "    for i, A_color in enumerate(colors):\n",
    "        s = play_single_game(A_pol, B_pol, A_color=A_color, seed=rng.randint(0, 10**9))\n",
    "        timeline.append(s)\n",
    "        if s == 1.0: wins += 1\n",
    "        elif s == 0.5: draws += 1\n",
    "        else: losses += 1\n",
    "\n",
    "    n = len(timeline)\n",
    "    score = (wins + 0.5*draws) / n if n else 0.0\n",
    "\n",
    "    return {\n",
    "        \"A\": short_name(Aps),\n",
    "        \"B\": short_name(Bps),\n",
    "        \"games\": n,\n",
    "        \"A_wins\": wins, \"draws\": draws, \"A_losses\": losses,\n",
    "        \"A_score_rate\": score,\n",
    "        \"timeline\": timeline,\n",
    "    }\n",
    "\n",
    "def mean_ci(scores, z=1.96):\n",
    "    '''CI for mean of scores in {0, 0.5, 1}. Normal approximation.'''\n",
    "    x = np.asarray(scores, float)\n",
    "    n = len(x)\n",
    "    m = float(x.mean()) if n else 0.0\n",
    "    s = float(x.std(ddof=1)) if n > 1 else 0.0\n",
    "    half = z * s / (n ** 0.5) if n > 1 else 0.0\n",
    "    return (max(0.0, m - half), min(1.0, m + half))\n",
    "\n",
    "def plot_stacked_bar(res):\n",
    "    n   = res[\"games\"]\n",
    "    pw  = res[\"A_wins\"] / n\n",
    "    pd  = res[\"draws\"]  / n\n",
    "    pl  = res[\"A_losses\"]/ n\n",
    "    title = f'{res[\"A\"]} vs {res[\"B\"]}'\n",
    "\n",
    "    fig, ax = plt.subplots(figsize=(6.5, 1.6))\n",
    "    left = 0.0\n",
    "    ax.barh([0], [pw], left=left, label=\"Win\")\n",
    "    left += pw\n",
    "    ax.barh([0], [pd], left=left, label=\"Draw\")\n",
    "    left += pd\n",
    "    ax.barh([0], [pl], left=left, label=\"Loss\")\n",
    "    ax.set_xlim(0, 1); ax.set_yticks([]); ax.set_xlabel(\"Proportion\")\n",
    "    ax.set_title(f\"{title} — A Win/Draw/Loss\")\n",
    "    ax.legend(ncols=3, loc=\"lower right\", frameon=False)\n",
    "    pos = 0.0\n",
    "    for frac, text in [(pw, f\"W {res['A_wins']}\"), (pd, f\"D {res['draws']}\"), (pl, f\"L {res['A_losses']}\")]:\n",
    "        if frac > 0:\n",
    "            ax.text(pos + frac/2, 0, text, ha=\"center\", va=\"center\", color=\"white\", fontsize=10)\n",
    "            pos += frac\n",
    "    plt.tight_layout()\n",
    "    plt.show()"
   ]
  },
  {
   "cell_type": "code",
   "execution_count": 4,
   "id": "d8b66275",
   "metadata": {},
   "outputs": [
    {
     "name": "stdout",
     "output_type": "stream",
     "text": [
      "Configured: 200 L1 vs Random\n"
     ]
    }
   ],
   "source": [
    "# --- Parameters ---\n",
    "N_GAMES   = 200\n",
    "PLAYER_A  = \"L1\"       # options: \"Random\", \"L1\", \"L2\", \"L3\", ... or \"Lookahead-1\"\n",
    "PLAYER_B  = \"Random\"\n",
    "SEED      = 123\n",
    "print(\"Configured:\", N_GAMES, PLAYER_A, \"vs\", PLAYER_B)"
   ]
  },
  {
   "cell_type": "code",
   "execution_count": 5,
   "id": "629d7f7e",
   "metadata": {},
   "outputs": [
    {
     "name": "stdout",
     "output_type": "stream",
     "text": [
      "L1 vs Random: games=200  A_score=1.000  CI95=(1.000, 1.000)\n",
      "Counts: W=200, D=0, L=0\n"
     ]
    },
    {
     "data": {
      "image/png": "[encoded data removed]",
      "text/plain": [
       "<Figure size 650x160 with 1 Axes>"
      ]
     },
     "metadata": {},
     "output_type": "display_data"
    }
   ],
   "source": [
    "res = run_series(PLAYER_A, PLAYER_B, n_games=N_GAMES, seed=SEED)\n",
    "lo, hi = mean_ci(res[\"timeline\"], z=1.96)\n",
    "print(f'{res[\"A\"]} vs {res[\"B\"]}: games={res[\"games\"]}  A_score={res[\"A_score_rate\"]:.3f}  CI95=({lo:.3f}, {hi:.3f})')\n",
    "print(f'Counts: W={res[\"A_wins\"]}, D={res[\"draws\"]}, L={res[\"A_losses\"]}')\n",
    "plot_stacked_bar(res)"
   ]
  },
  {
   "cell_type": "code",
   "execution_count": 6,
   "id": "35d584cc",
   "metadata": {},
   "outputs": [
    {
     "name": "stdout",
     "output_type": "stream",
     "text": [
      "[L1 beats Random] score=1.000  CI95=(1.000, 1.000)  -> PASS\n"
     ]
    },
    {
     "data": {
      "image/png": "[encoded data removed]",
      "text/plain": [
       "<Figure size 650x160 with 1 Axes>"
      ]
     },
     "metadata": {},
     "output_type": "display_data"
    },
    {
     "name": "stdout",
     "output_type": "stream",
     "text": [
      "[L2 beats L1] score=0.733  CI95=(0.674, 0.791)  -> PASS\n"
     ]
    },
    {
     "data": {
      "image/png": "[encoded data removed]",
      "text/plain": [
       "<Figure size 650x160 with 1 Axes>"
      ]
     },
     "metadata": {},
     "output_type": "display_data"
    },
    {
     "name": "stdout",
     "output_type": "stream",
     "text": [
      "[L3 beats L2] score=0.405  CI95=(0.358, 0.452)  -> FAIL\n"
     ]
    },
    {
     "data": {
      "image/png": "[encoded data removed]",
      "text/plain": [
       "<Figure size 650x160 with 1 Axes>"
      ]
     },
     "metadata": {},
     "output_type": "display_data"
    },
    {
     "ename": "AssertionError",
     "evalue": "L3 beats L2 not satisfied at n=200 (score=0.405, CI95=(0.358, 0.452))",
     "output_type": "error",
     "traceback": [
      "\u001b[1;31m---------------------------------------------------------------------------\u001b[0m",
      "\u001b[1;31mAssertionError\u001b[0m                            Traceback (most recent call last)",
      "Cell \u001b[1;32mIn[6], line 18\u001b[0m\n\u001b[0;32m     11\u001b[0m TESTS \u001b[38;5;241m=\u001b[39m [\n\u001b[0;32m     12\u001b[0m     (\u001b[38;5;124m\"\u001b[39m\u001b[38;5;124mL1\u001b[39m\u001b[38;5;124m\"\u001b[39m, \u001b[38;5;124m\"\u001b[39m\u001b[38;5;124mRandom\u001b[39m\u001b[38;5;124m\"\u001b[39m,  \u001b[38;5;241m200\u001b[39m, \u001b[38;5;241m0.60\u001b[39m, \u001b[38;5;124m\"\u001b[39m\u001b[38;5;124mL1 beats Random\u001b[39m\u001b[38;5;124m\"\u001b[39m),\n\u001b[0;32m     13\u001b[0m     (\u001b[38;5;124m\"\u001b[39m\u001b[38;5;124mL2\u001b[39m\u001b[38;5;124m\"\u001b[39m, \u001b[38;5;124m\"\u001b[39m\u001b[38;5;124mL1\u001b[39m\u001b[38;5;124m\"\u001b[39m,      \u001b[38;5;241m200\u001b[39m, \u001b[38;5;241m0.55\u001b[39m, \u001b[38;5;124m\"\u001b[39m\u001b[38;5;124mL2 beats L1\u001b[39m\u001b[38;5;124m\"\u001b[39m),\n\u001b[0;32m     14\u001b[0m     (\u001b[38;5;124m\"\u001b[39m\u001b[38;5;124mL3\u001b[39m\u001b[38;5;124m\"\u001b[39m, \u001b[38;5;124m\"\u001b[39m\u001b[38;5;124mL2\u001b[39m\u001b[38;5;124m\"\u001b[39m,      \u001b[38;5;241m200\u001b[39m, \u001b[38;5;241m0.55\u001b[39m, \u001b[38;5;124m\"\u001b[39m\u001b[38;5;124mL3 beats L2\u001b[39m\u001b[38;5;124m\"\u001b[39m),\n\u001b[0;32m     15\u001b[0m ]\n\u001b[0;32m     17\u001b[0m \u001b[38;5;28;01mfor\u001b[39;00m A, B, n, t, label \u001b[38;5;129;01min\u001b[39;00m TESTS:\n\u001b[1;32m---> 18\u001b[0m     \u001b[43massert_stronger\u001b[49m\u001b[43m(\u001b[49m\u001b[43mA\u001b[49m\u001b[43m,\u001b[49m\u001b[43m \u001b[49m\u001b[43mB\u001b[49m\u001b[43m,\u001b[49m\u001b[43m \u001b[49m\u001b[43mn_games\u001b[49m\u001b[38;5;241;43m=\u001b[39;49m\u001b[43mn\u001b[49m\u001b[43m,\u001b[49m\u001b[43m \u001b[49m\u001b[43mseed\u001b[49m\u001b[38;5;241;43m=\u001b[39;49m\u001b[43mSEED\u001b[49m\u001b[43m,\u001b[49m\u001b[43m \u001b[49m\u001b[43mthresh\u001b[49m\u001b[38;5;241;43m=\u001b[39;49m\u001b[43mt\u001b[49m\u001b[43m,\u001b[49m\u001b[43m \u001b[49m\u001b[43mlabel\u001b[49m\u001b[38;5;241;43m=\u001b[39;49m\u001b[43mlabel\u001b[49m\u001b[43m)\u001b[49m\n\u001b[0;32m     20\u001b[0m \u001b[38;5;28mprint\u001b[39m(\u001b[38;5;124m\"\u001b[39m\u001b[38;5;124m✅ All lookahead sanity assertions passed.\u001b[39m\u001b[38;5;124m\"\u001b[39m)\n",
      "Cell \u001b[1;32mIn[6], line 8\u001b[0m, in \u001b[0;36massert_stronger\u001b[1;34m(A, B, n_games, seed, thresh, label)\u001b[0m\n\u001b[0;32m      6\u001b[0m \u001b[38;5;28mprint\u001b[39m(\u001b[38;5;124mf\u001b[39m\u001b[38;5;124m\"\u001b[39m\u001b[38;5;124m[\u001b[39m\u001b[38;5;132;01m{\u001b[39;00mtag\u001b[38;5;132;01m}\u001b[39;00m\u001b[38;5;124m] score=\u001b[39m\u001b[38;5;132;01m{\u001b[39;00mres[\u001b[38;5;124m'\u001b[39m\u001b[38;5;124mA_score_rate\u001b[39m\u001b[38;5;124m'\u001b[39m]\u001b[38;5;132;01m:\u001b[39;00m\u001b[38;5;124m.3f\u001b[39m\u001b[38;5;132;01m}\u001b[39;00m\u001b[38;5;124m  CI95=(\u001b[39m\u001b[38;5;132;01m{\u001b[39;00mlo\u001b[38;5;132;01m:\u001b[39;00m\u001b[38;5;124m.3f\u001b[39m\u001b[38;5;132;01m}\u001b[39;00m\u001b[38;5;124m, \u001b[39m\u001b[38;5;132;01m{\u001b[39;00mhi\u001b[38;5;132;01m:\u001b[39;00m\u001b[38;5;124m.3f\u001b[39m\u001b[38;5;132;01m}\u001b[39;00m\u001b[38;5;124m)  -> \u001b[39m\u001b[38;5;132;01m{\u001b[39;00m\u001b[38;5;124m'\u001b[39m\u001b[38;5;124mPASS\u001b[39m\u001b[38;5;124m'\u001b[39m\u001b[38;5;250m \u001b[39m\u001b[38;5;28;01mif\u001b[39;00m\u001b[38;5;250m \u001b[39mok\u001b[38;5;250m \u001b[39m\u001b[38;5;28;01melse\u001b[39;00m\u001b[38;5;250m \u001b[39m\u001b[38;5;124m'\u001b[39m\u001b[38;5;124mFAIL\u001b[39m\u001b[38;5;124m'\u001b[39m\u001b[38;5;132;01m}\u001b[39;00m\u001b[38;5;124m\"\u001b[39m)\n\u001b[0;32m      7\u001b[0m plot_stacked_bar(res)\n\u001b[1;32m----> 8\u001b[0m \u001b[38;5;28;01massert\u001b[39;00m ok, \u001b[38;5;124mf\u001b[39m\u001b[38;5;124m\"\u001b[39m\u001b[38;5;132;01m{\u001b[39;00mtag\u001b[38;5;132;01m}\u001b[39;00m\u001b[38;5;124m not satisfied at n=\u001b[39m\u001b[38;5;132;01m{\u001b[39;00mn_games\u001b[38;5;132;01m}\u001b[39;00m\u001b[38;5;124m (score=\u001b[39m\u001b[38;5;132;01m{\u001b[39;00mres[\u001b[38;5;124m'\u001b[39m\u001b[38;5;124mA_score_rate\u001b[39m\u001b[38;5;124m'\u001b[39m]\u001b[38;5;132;01m:\u001b[39;00m\u001b[38;5;124m.3f\u001b[39m\u001b[38;5;132;01m}\u001b[39;00m\u001b[38;5;124m, CI95=(\u001b[39m\u001b[38;5;132;01m{\u001b[39;00mlo\u001b[38;5;132;01m:\u001b[39;00m\u001b[38;5;124m.3f\u001b[39m\u001b[38;5;132;01m}\u001b[39;00m\u001b[38;5;124m, \u001b[39m\u001b[38;5;132;01m{\u001b[39;00mhi\u001b[38;5;132;01m:\u001b[39;00m\u001b[38;5;124m.3f\u001b[39m\u001b[38;5;132;01m}\u001b[39;00m\u001b[38;5;124m))\u001b[39m\u001b[38;5;124m\"\u001b[39m\n",
      "\u001b[1;31mAssertionError\u001b[0m: L3 beats L2 not satisfied at n=200 (score=0.405, CI95=(0.358, 0.452))"
     ]
    }
   ],
   "source": [
    "def assert_stronger(A, B, n_games=200, seed=123, thresh=0.55, label=None):\n",
    "    res = run_series(A, B, n_games=n_games, seed=seed)\n",
    "    lo, hi = mean_ci(res[\"timeline\"], z=1.96)\n",
    "    ok = (res[\"A_score_rate\"] >= thresh) and (lo > 0.5)\n",
    "    tag = label or f\"{res['A']} > {res['B']}\"\n",
    "    print(f\"[{tag}] score={res['A_score_rate']:.3f}  CI95=({lo:.3f}, {hi:.3f})  -> {'PASS' if ok else 'FAIL'}\")\n",
    "    plot_stacked_bar(res)\n",
    "    assert ok, f\"{tag} not satisfied at n={n_games} (score={res['A_score_rate']:.3f}, CI95=({lo:.3f}, {hi:.3f}))\"\n",
    "\n",
    "# --- Default sanity suite ---\n",
    "TESTS = [\n",
    "    (\"L1\", \"Random\",  200, 0.60, \"L1 beats Random\"),\n",
    "    (\"L2\", \"L1\",      200, 0.55, \"L2 beats L1\"),\n",
    "    (\"L3\", \"L2\",      200, 0.55, \"L3 beats L2\"),\n",
    "]\n",
    "\n",
    "for A, B, n, t, label in TESTS:\n",
    "    assert_stronger(A, B, n_games=n, seed=SEED, thresh=t, label=label)\n",
    "\n",
    "print(\"✅ All lookahead sanity assertions passed.\")"
   ]
  },
  {
   "cell_type": "markdown",
   "id": "fc306a18",
   "metadata": {},
   "source": [
    "## Improvements: clearer bars + non‑fatal checks\n",
    "\n",
    "- Bars now show **percentages** and **counts** inside each segment.\n",
    "- `check_stronger()` prints PASS/FAIL without raising, so the run never crashes.\n",
    "- Added a small **depth/seed sweep** cell to help diagnose anomalies (e.g., L3 underperforming L2)."
   ]
  },
  {
   "cell_type": "code",
   "execution_count": null,
   "id": "8c394479",
   "metadata": {},
   "outputs": [],
   "source": [
    "# Improved plot with proportions (percent labels + counts)\n",
    "def plot_stacked_bar_pretty(res):\n",
    "    n   = res[\"games\"]\n",
    "    pw  = res[\"A_wins\"] / n if n else 0\n",
    "    pd  = res[\"draws\"]  / n if n else 0\n",
    "    pl  = res[\"A_losses\"]/ n if n else 0\n",
    "    title = f'{res[\"A\"]} vs {res[\"B\"]}'\n",
    "    segs = [(\"Win\", pw, res[\"A_wins\"]), (\"Draw\", pd, res[\"draws\"]), (\"Loss\", pl, res[\"A_losses\"])]\n",
    "\n",
    "    import matplotlib.pyplot as plt\n",
    "    fig, ax = plt.subplots(figsize=(6.5, 1.6))\n",
    "    left = 0.0\n",
    "    for name, frac, cnt in segs:\n",
    "        ax.barh([0], [frac], left=left, label=name)\n",
    "        if frac > 0:\n",
    "            ax.text(left + frac/2, 0, f\"{name[0]} {cnt}  ({frac*100:.1f}%)\",\n",
    "                    ha=\"center\", va=\"center\", color=\"white\", fontsize=10)\n",
    "        left += frac\n",
    "\n",
    "    ax.set_xlim(0, 1); ax.set_yticks([]); ax.set_xlabel(\"Proportion\")\n",
    "    ax.set_title(f\"{title} — A Win/Draw/Loss\")\n",
    "    ax.legend(ncols=3, loc=\"lower right\", frameon=False)\n",
    "    plt.tight_layout()\n",
    "    plt.show()"
   ]
  },
  {
   "cell_type": "code",
   "execution_count": null,
   "id": "e12ecb31",
   "metadata": {},
   "outputs": [],
   "source": [
    "# Non-fatal checker: prints PASS/FAIL without assert\n",
    "def check_stronger(A, B, n_games=200, seed=123, thresh=0.55, label=None):\n",
    "    res = run_series(A, B, n_games=n_games, seed=seed)\n",
    "    lo, hi = mean_ci(res[\"timeline\"], z=1.96)\n",
    "    ok = (res[\"A_score_rate\"] >= thresh) and (lo > 0.5)\n",
    "    tag = label or f\"{res['A']} > {res['B']}\"\n",
    "    verdict = \"PASS ✅\" if ok else \"FAIL ❌\"\n",
    "    print(f\"[{tag}] score={res['A_score_rate']:.3f}  CI95=({lo:.3f}, {hi:.3f})  -> {verdict}\")\n",
    "    plot_stacked_bar_pretty(res)\n",
    "    return {\"label\": tag, \"ok\": ok, **res, \"CI95\": (lo, hi)}"
   ]
  },
  {
   "cell_type": "code",
   "execution_count": null,
   "id": "3ae46fb4",
   "metadata": {},
   "outputs": [],
   "source": [
    "# Example: run the three checks again without crashing\n",
    "RESULTS = []\n",
    "RESULTS.append(check_stronger(\"L1\", \"Random\", n_games=200, seed=SEED, thresh=0.60, label=\"L1 beats Random\"))\n",
    "RESULTS.append(check_stronger(\"L2\", \"L1\",     n_games=200, seed=SEED, thresh=0.55, label=\"L2 beats L1\"))\n",
    "RESULTS.append(check_stronger(\"L3\", \"L2\",     n_games=200, seed=SEED, thresh=0.55, label=\"L3 beats L2\"))\n",
    "RESULTS"
   ]
  },
  {
   "cell_type": "code",
   "execution_count": null,
   "id": "edde9a81",
   "metadata": {},
   "outputs": [],
   "source": [
    "# Quick diagnostic sweep: multiple seeds, depths, shorter series\n",
    "def sweep_depths(pairs, seeds=5, games=100):\n",
    "    rows = []\n",
    "    for (A, B) in pairs:\n",
    "        wins = draws = losses = 0\n",
    "        for s in range(seeds):\n",
    "            res = run_series(A, B, n_games=games, seed=1000 + s)\n",
    "            wins  += res[\"A_wins\"]\n",
    "            draws += res[\"draws\"]\n",
    "            losses+= res[\"A_losses\"]\n",
    "        n = seeds * games\n",
    "        score = (wins + 0.5*draws) / n if n else 0.0\n",
    "        rows.append({\n",
    "            \"A\": A, \"B\": B, \"games\": n,\n",
    "            \"A_win%\": wins/n, \"draw%\": draws/n, \"A_loss%\": losses/n,\n",
    "            \"A_score\": score\n",
    "        })\n",
    "    import pandas as pd\n",
    "    df = pd.DataFrame(rows)\n",
    "    return df.sort_values(\"A_score\", ascending=False).reset_index(drop=True)\n",
    "\n",
    "pairs = [(\"L1\",\"Random\"), (\"L2\",\"L1\"), (\"L3\",\"L2\"), (\"L3\",\"L1\"), (\"L2\",\"Random\"), (\"L3\",\"Random\")]\n",
    "diag = sweep_depths(pairs, seeds=6, games=100)\n",
    "import caas_jupyter_tools as cj\n",
    "cj.display_dataframe_to_user(\"Lookahead depth diagnostic\", diag)\n",
    "diag"
   ]
  }
 ],
 "metadata": {
  "kernelspec": {
   "display_name": "Python 3 (ipykernel)",
   "language": "python",
   "name": "python3"
  },
  "language_info": {
   "codemirror_mode": {
    "name": "ipython",
    "version": 3
   },
   "file_extension": ".py",
   "mimetype": "text/x-python",
   "name": "python",
   "nbconvert_exporter": "python",
   "pygments_lexer": "ipython3",
   "version": "3.10.18"
  }
 },
 "nbformat": 4,
 "nbformat_minor": 5
}
