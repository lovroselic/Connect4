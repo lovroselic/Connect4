{
 "cells": [
  {
   "cell_type": "markdown",
   "id": "c25e1295-6e59-4d89-a04d-00bcf5d4eabf",
   "metadata": {},
   "source": [
    "# Connect-4 data generator"
   ]
  },
  {
   "cell_type": "code",
   "execution_count": 1,
   "id": "1b71e23d-2ec8-4ccf-8b3d-f0e0304e68c6",
   "metadata": {},
   "outputs": [
    {
     "name": "stdout",
     "output_type": "stream",
     "text": [
      "All dependencies imported successfully.\n"
     ]
    }
   ],
   "source": [
    "import numpy as np\n",
    "import random\n",
    "from tqdm import tqdm\n",
    "import time\n",
    "import pandas as pd\n",
    "import os\n",
    "from pathlib import Path\n",
    "import openpyxl\n",
    "import xlsxwriter\n",
    "\n",
    "print(\"All dependencies imported successfully.\")"
   ]
  },
  {
   "cell_type": "code",
   "execution_count": 2,
   "id": "da6ef63d-c85d-4957-ba83-ff146cd1233d",
   "metadata": {},
   "outputs": [],
   "source": [
    "PLAYS = {\n",
    "    \"L6L1\": {\"A\": 6, \"B\": 1, \"games\": 2},\n",
    "    \"L1L6\": {\"A\": 1, \"B\": 6, \"games\": 2},\n",
    "    \"L6L2\": {\"A\": 6, \"B\": 2, \"games\": 2},\n",
    "    \"L2L6\": {\"A\": 2, \"B\": 6, \"games\": 2},\n",
    "    \"L6L3\": {\"A\": 6, \"B\": 3, \"games\": 2},\n",
    "    \"L3L6\": {\"A\": 3, \"B\": 6, \"games\": 2},\n",
    "    \"L6L4\": {\"A\": 6, \"B\": 4, \"games\": 2},\n",
    "    \"L4L6\": {\"A\": 4, \"B\": 6, \"games\": 2},\n",
    "    \"L6L5\": {\"A\": 6, \"B\": 5, \"games\": 2},\n",
    "    \"L5L6\": {\"A\": 5, \"B\": 6, \"games\": 2},\n",
    "\n",
    "    \"L6\":   {\"A\": 6, \"B\": 6, \"games\": 2},\n",
    "    \"L7L1\": {\"A\": 7, \"B\": 1, \"games\": 2},\n",
    "    \"L1L7\": {\"A\": 1, \"B\": 7, \"games\": 2},\n",
    "    \"L7L2\": {\"A\": 7, \"B\": 2, \"games\": 2},\n",
    "    \"L2L7\": {\"A\": 2, \"B\": 7, \"games\": 2},\n",
    "    \"L7L3\": {\"A\": 7, \"B\": 3, \"games\": 2},\n",
    "    \"L3L7\": {\"A\": 3, \"B\": 7, \"games\": 2},\n",
    "    \"L7L4\": {\"A\": 7, \"B\": 4, \"games\": 2},\n",
    "    \"L4L7\": {\"A\": 4, \"B\": 7, \"games\": 2},\n",
    "    \"L7L5\": {\"A\": 7, \"B\": 5, \"games\": 2},\n",
    "    \"L5L7\": {\"A\": 5, \"B\": 7, \"games\": 2},\n",
    "    \"L7L6\": {\"A\": 7, \"B\": 6, \"games\": 2},\n",
    "    \"L6L7\": {\"A\": 6, \"B\": 7, \"games\": 2},\n",
    "\n",
    "    \"L7\":   {\"A\": 7, \"B\": 7, \"games\": 2},\n",
    "}"
   ]
  },
  {
   "cell_type": "code",
   "execution_count": 3,
   "id": "448248d8-2580-468b-a0dd-a9042c6c38a2",
   "metadata": {},
   "outputs": [],
   "source": [
    "DATA_FILE = \"C4.data.xlsx\"\n",
    "\n",
    "if os.path.exists(DATA_FILE):\n",
    "    DATA = pd.read_excel(DATA_FILE)\n",
    "else:\n",
    "    DATA = pd.DataFrame()"
   ]
  },
  {
   "cell_type": "code",
   "execution_count": 4,
   "id": "cde60a25-3ee5-4b7b-bae0-caadefc877a8",
   "metadata": {},
   "outputs": [],
   "source": [
    "from C4.connect4_env import Connect4Env\n",
    "from C4.connect4_lookahead import Connect4Lookahead"
   ]
  },
  {
   "cell_type": "code",
   "execution_count": 5,
   "id": "136d2ffc-0614-4a05-8cba-5c7b89e2ec35",
   "metadata": {},
   "outputs": [],
   "source": [
    "begin_start_time = time.time()\n",
    "Lookahead = Connect4Lookahead()\n",
    "#ENV = Connect4Env()"
   ]
  },
  {
   "cell_type": "code",
   "execution_count": 6,
   "id": "8a1f2dfc-0bc3-4e2c-8325-6ad247dfc46d",
   "metadata": {},
   "outputs": [],
   "source": [
    "def play_game(lookA: int, lookB: int, label: str) -> dict:\n",
    "    \"\"\"\n",
    "    Play one game: A starts (player=+1), B responds (player=-1).\n",
    "    Both use n_step_lookahead with their depths.\n",
    "    Return dict: {\"label\":..., \"winner\":...,\"0-0\":...,\"0-1\":..., ... \"5-6\":...}\n",
    "    \"\"\"\n",
    "    env = Connect4Env()\n",
    "    board = env.reset()\n",
    "    done = False\n",
    "    current_player = 1   # A always starts as +1\n",
    "\n",
    "    while not done:\n",
    "        depth = lookA if current_player == 1 else lookB\n",
    "        move = Lookahead.n_step_lookahead(board, current_player, depth=depth)\n",
    "        board, reward, done = env.step(move)\n",
    "        if done:\n",
    "            winner = env.winner if env.winner is not None else 0\n",
    "            break\n",
    "        current_player *= -1\n",
    "\n",
    "    # Flatten final board into dict with \"row-col\" keys\n",
    "    row_dict = {\"label\": label, \"winner\": winner}\n",
    "    for r in range(env.ROWS):\n",
    "        for c in range(env.COLS):\n",
    "            row_dict[f\"{r}-{c}\"] = int(env.board[r, c])\n",
    "    return row_dict\n"
   ]
  },
  {
   "cell_type": "code",
   "execution_count": 7,
   "id": "ac7a9dbd-1f57-416d-8cd4-2a1ebbee9196",
   "metadata": {},
   "outputs": [
    {
     "name": "stdout",
     "output_type": "stream",
     "text": [
      "Generating games for L6L1 (A=6 vs B=1, 2 games)\n"
     ]
    },
    {
     "name": "stderr",
     "output_type": "stream",
     "text": [
      "L6L1: 100%|██████████| 2/2 [21:16<00:00, 638.04s/it]\n"
     ]
    },
    {
     "name": "stdout",
     "output_type": "stream",
     "text": [
      "Generating games for L1L6 (A=1 vs B=6, 2 games)\n"
     ]
    },
    {
     "name": "stderr",
     "output_type": "stream",
     "text": [
      "L1L6: 100%|██████████| 2/2 [18:21<00:00, 550.69s/it]\n"
     ]
    },
    {
     "name": "stdout",
     "output_type": "stream",
     "text": [
      "Generating games for L6L2 (A=6 vs B=2, 2 games)\n"
     ]
    },
    {
     "name": "stderr",
     "output_type": "stream",
     "text": [
      "L6L2: 100%|██████████| 2/2 [17:46<00:00, 533.23s/it]\n"
     ]
    },
    {
     "name": "stdout",
     "output_type": "stream",
     "text": [
      "Generating games for L2L6 (A=2 vs B=6, 2 games)\n"
     ]
    },
    {
     "name": "stderr",
     "output_type": "stream",
     "text": [
      "L2L6: 100%|██████████| 2/2 [25:30<00:00, 765.12s/it]\n"
     ]
    },
    {
     "name": "stdout",
     "output_type": "stream",
     "text": [
      "Generating games for L6L3 (A=6 vs B=3, 2 games)\n"
     ]
    },
    {
     "name": "stderr",
     "output_type": "stream",
     "text": [
      "L6L3: 100%|██████████| 2/2 [26:53<00:00, 806.96s/it]\n"
     ]
    },
    {
     "name": "stdout",
     "output_type": "stream",
     "text": [
      "Generating games for L3L6 (A=3 vs B=6, 2 games)\n"
     ]
    },
    {
     "name": "stderr",
     "output_type": "stream",
     "text": [
      "L3L6: 100%|██████████| 2/2 [25:55<00:00, 777.92s/it]\n"
     ]
    },
    {
     "name": "stdout",
     "output_type": "stream",
     "text": [
      "Generating games for L6L4 (A=6 vs B=4, 2 games)\n"
     ]
    },
    {
     "name": "stderr",
     "output_type": "stream",
     "text": [
      "L6L4: 100%|██████████| 2/2 [27:28<00:00, 824.29s/it]\n"
     ]
    },
    {
     "name": "stdout",
     "output_type": "stream",
     "text": [
      "Generating games for L4L6 (A=4 vs B=6, 2 games)\n"
     ]
    },
    {
     "name": "stderr",
     "output_type": "stream",
     "text": [
      "L4L6: 100%|██████████| 2/2 [23:06<00:00, 693.12s/it]\n"
     ]
    },
    {
     "name": "stdout",
     "output_type": "stream",
     "text": [
      "Generating games for L6L5 (A=6 vs B=5, 2 games)\n"
     ]
    },
    {
     "name": "stderr",
     "output_type": "stream",
     "text": [
      "L6L5: 100%|██████████| 2/2 [32:26<00:00, 973.15s/it]\n"
     ]
    },
    {
     "name": "stdout",
     "output_type": "stream",
     "text": [
      "Generating games for L5L6 (A=5 vs B=6, 2 games)\n"
     ]
    },
    {
     "name": "stderr",
     "output_type": "stream",
     "text": [
      "L5L6: 100%|██████████| 2/2 [38:32<00:00, 1156.25s/it]\n"
     ]
    },
    {
     "name": "stdout",
     "output_type": "stream",
     "text": [
      "Generating games for L6 (A=6 vs B=6, 2 games)\n"
     ]
    },
    {
     "name": "stderr",
     "output_type": "stream",
     "text": [
      "L6: 100%|██████████| 2/2 [42:50<00:00, 1285.45s/it]\n"
     ]
    },
    {
     "name": "stdout",
     "output_type": "stream",
     "text": [
      "Generating games for L7L1 (A=7 vs B=1, 2 games)\n"
     ]
    },
    {
     "name": "stderr",
     "output_type": "stream",
     "text": [
      "L7L1: 100%|██████████| 2/2 [1:30:17<00:00, 2708.98s/it]\n"
     ]
    },
    {
     "name": "stdout",
     "output_type": "stream",
     "text": [
      "Generating games for L1L7 (A=1 vs B=7, 2 games)\n"
     ]
    },
    {
     "name": "stderr",
     "output_type": "stream",
     "text": [
      "L1L7: 100%|██████████| 2/2 [1:27:16<00:00, 2618.48s/it]\n"
     ]
    },
    {
     "name": "stdout",
     "output_type": "stream",
     "text": [
      "Generating games for L7L2 (A=7 vs B=2, 2 games)\n"
     ]
    },
    {
     "name": "stderr",
     "output_type": "stream",
     "text": [
      "L7L2: 100%|██████████| 2/2 [1:02:07<00:00, 1863.56s/it]\n"
     ]
    },
    {
     "name": "stdout",
     "output_type": "stream",
     "text": [
      "Generating games for L2L7 (A=2 vs B=7, 2 games)\n"
     ]
    },
    {
     "name": "stderr",
     "output_type": "stream",
     "text": [
      "L2L7: 100%|██████████| 2/2 [1:29:53<00:00, 2696.69s/it]\n"
     ]
    },
    {
     "name": "stdout",
     "output_type": "stream",
     "text": [
      "Generating games for L7L3 (A=7 vs B=3, 2 games)\n"
     ]
    },
    {
     "name": "stderr",
     "output_type": "stream",
     "text": [
      "L7L3: 100%|██████████| 2/2 [51:36<00:00, 1548.47s/it]\n"
     ]
    },
    {
     "name": "stdout",
     "output_type": "stream",
     "text": [
      "Generating games for L3L7 (A=3 vs B=7, 2 games)\n"
     ]
    },
    {
     "name": "stderr",
     "output_type": "stream",
     "text": [
      "L3L7: 100%|██████████| 2/2 [1:13:30<00:00, 2205.39s/it]\n"
     ]
    },
    {
     "name": "stdout",
     "output_type": "stream",
     "text": [
      "Generating games for L7L4 (A=7 vs B=4, 2 games)\n"
     ]
    },
    {
     "name": "stderr",
     "output_type": "stream",
     "text": [
      "L7L4: 100%|██████████| 2/2 [1:38:59<00:00, 2969.93s/it]\n"
     ]
    },
    {
     "name": "stdout",
     "output_type": "stream",
     "text": [
      "Generating games for L4L7 (A=4 vs B=7, 2 games)\n"
     ]
    },
    {
     "name": "stderr",
     "output_type": "stream",
     "text": [
      "L4L7: 100%|██████████| 2/2 [1:15:54<00:00, 2277.35s/it]\n"
     ]
    },
    {
     "name": "stdout",
     "output_type": "stream",
     "text": [
      "Generating games for L7L5 (A=7 vs B=5, 2 games)\n"
     ]
    },
    {
     "name": "stderr",
     "output_type": "stream",
     "text": [
      "L7L5: 100%|██████████| 2/2 [2:52:06<00:00, 5163.05s/it]  \n"
     ]
    },
    {
     "name": "stdout",
     "output_type": "stream",
     "text": [
      "Generating games for L5L7 (A=5 vs B=7, 2 games)\n"
     ]
    },
    {
     "name": "stderr",
     "output_type": "stream",
     "text": [
      "L5L7: 100%|██████████| 2/2 [1:29:30<00:00, 2685.46s/it]\n"
     ]
    },
    {
     "name": "stdout",
     "output_type": "stream",
     "text": [
      "Generating games for L7L6 (A=7 vs B=6, 2 games)\n"
     ]
    },
    {
     "name": "stderr",
     "output_type": "stream",
     "text": [
      "L7L6: 100%|██████████| 2/2 [2:25:58<00:00, 4379.23s/it]  \n"
     ]
    },
    {
     "name": "stdout",
     "output_type": "stream",
     "text": [
      "Generating games for L6L7 (A=6 vs B=7, 2 games)\n"
     ]
    },
    {
     "name": "stderr",
     "output_type": "stream",
     "text": [
      "L6L7: 100%|██████████| 2/2 [1:57:39<00:00, 3529.95s/it]  \n"
     ]
    },
    {
     "name": "stdout",
     "output_type": "stream",
     "text": [
      "Generating games for L7 (A=7 vs B=7, 2 games)\n"
     ]
    },
    {
     "name": "stderr",
     "output_type": "stream",
     "text": [
      "L7: 100%|██████████| 2/2 [2:35:00<00:00, 4650.32s/it]\n"
     ]
    }
   ],
   "source": [
    "from tqdm import tqdm\n",
    "import pandas as pd\n",
    "\n",
    "new_rows = []\n",
    "\n",
    "for label, cfg in PLAYS.items():\n",
    "    print(f\"Generating games for {label} (A={cfg['A']} vs B={cfg['B']}, {cfg['games']} games)\")\n",
    "    for g in tqdm(range(cfg[\"games\"]), desc=f\"{label}\", leave=True):\n",
    "        new_rows.append(play_game(cfg[\"A\"], cfg[\"B\"], label))\n",
    "\n",
    "df_new = pd.DataFrame(new_rows)"
   ]
  },
  {
   "cell_type": "code",
   "execution_count": 8,
   "id": "16caed29-4b7f-4017-81ae-97f1b7e11ea0",
   "metadata": {},
   "outputs": [
    {
     "name": "stdout",
     "output_type": "stream",
     "text": [
      "Saved 70 unique rows total to C4.data.xlsx\n"
     ]
    }
   ],
   "source": [
    "# Append to DATA\n",
    "if not DATA.empty:\n",
    "    DATA = pd.concat([DATA, df_new], ignore_index=True)\n",
    "else:\n",
    "    DATA = df_new\n",
    "\n",
    "# Remove duplicate rows (exact matches across all columns)\n",
    "DATA = DATA.drop_duplicates().reset_index(drop=True)\n",
    "\n",
    "# Save back to Excel\n",
    "DATA.to_excel(DATA_FILE, index=False)\n",
    "print(f\"Saved {len(DATA)} unique rows total to {DATA_FILE}\")\n"
   ]
  },
  {
   "cell_type": "code",
   "execution_count": 9,
   "id": "fbbb0e86-46e3-4689-a2e7-c98b1d05af36",
   "metadata": {},
   "outputs": [
    {
     "name": "stdout",
     "output_type": "stream",
     "text": [
      "Data generated in 26.8 hours\n"
     ]
    }
   ],
   "source": [
    "total_end_time = time.time()\n",
    "total_elapsed = (total_end_time - begin_start_time) / 3600\n",
    "print(f\"Data generated in {total_elapsed:.1f} hours\")"
   ]
  }
 ],
 "metadata": {
  "kernelspec": {
   "display_name": "Python 3 (ipykernel)",
   "language": "python",
   "name": "python3"
  },
  "language_info": {
   "codemirror_mode": {
    "name": "ipython",
    "version": 3
   },
   "file_extension": ".py",
   "mimetype": "text/x-python",
   "name": "python",
   "nbconvert_exporter": "python",
   "pygments_lexer": "ipython3",
   "version": "3.10.18"
  }
 },
 "nbformat": 4,
 "nbformat_minor": 5
}
